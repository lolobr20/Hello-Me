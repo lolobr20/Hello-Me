{
 "cells": [
  {
   "cell_type": "markdown",
   "metadata": {},
   "source": [
    "# RECORD LINKAGE\n",
    "\n",
    "----\n",
    "\n",
    "This notebook will provide you with an instruction into Record Linkage using Python. Upon completion of this notebook you will be able to apply record linkage techniques using the `recordlinkage` package to combine data from different sources in Python. It will lead you through all the steps necessary for a successful record linkage starting with data preparation  including pre-processing, cleaning and standardization of data."
   ]
  },
  {
   "cell_type": "markdown",
   "metadata": {},
   "source": [
    "## Table of Contents\n",
    "- [The Principles of Record Linkage](#The-Principles-of-Record-Linkage)\n",
    "- [Linking Patents to Grants](#Linking-Patents-to-Grants)\n",
    "- [Import of Packages](#Import-of-Packages)\n",
    "- [Loading Grant and Patent Data](#Loading-Grant-and-Patent-Data)\n",
    "- [The Importance of Pre-Processing](#The-Importance-of-Pre-Processing)\n",
    "- [Record Linkage](#Record-Linkage)\n",
    "- [References and Further Readings](#References-and-Further-Readings)"
   ]
  },
  {
   "cell_type": "markdown",
   "metadata": {},
   "source": [
    "## The Principles of Record Linkage\n",
    "The goal of record linkage is to determine if pairs of records describe the same identity. For instance, this is important for removing duplicates from a data source or joining two separate data sources together. Record linkage also goes by the terms data matching, merge/purge, duplication detection, de-duping, reference matching, entity resolution, disambiguation, co-reference/anaphora in various fields.\n",
    "\n",
    "There are several approaches to record linkage that include \n",
    "    - exact matching, \n",
    "    - rule-based linking and \n",
    "    - probabilistic linking. \n",
    "- An example of **exact matching** is joining records based on a direct identifier. This is we have already have done in SQL by joining tables in the last lecture and lab. \n",
    "- **Rule-based matching** involves applying a cascading set of rules that reflect the domain knowledge of the - records being linked. \n",
    "- In **probabilistic record linkages**, linkage weights are estimated to calculate the probability of a certain match.\n",
    "\n",
    "In practical applications you will need record linkage techiques to combine information addressing the same entity that is stored in different data sources. Record linkage will also help you to address the quality of different data sources. For example, if one of your databases has missing values you might be able to fill those by finding an identical pair in a different data source. Overall, the main applications of record linkage are\n",
    "\n",
    "   1. Merging two or more data files \n",
    "   2. Identifying the intersection of the two data sets \n",
    "   3. Updating data files (with the data row of the other data files) and imputing missing data\n",
    "   4. Entity disambiguation and de-duplication"
   ]
  },
  {
   "cell_type": "markdown",
   "metadata": {},
   "source": [
    "## Linking Patents to Grants\n",
    "\n",
    "In this notebook we will link patents to data on federal grants. Both data are in our class folder. The federal grants contain the name of the PI and the name and location of the institution that the PI is associated with. In our patent data we have the name of the first named inventor on the patent and the name and location of the assignee. Our goal is to identify if there are specific grants related to any patents. We might be able to answer that question by linking these two data sources using the identifiers outlined above. "
   ]
  },
  {
   "cell_type": "markdown",
   "metadata": {},
   "source": [
    "## Installation of Packages\n",
    "\n",
    "The enviroment has the most commonly used packages installed so you are able to directly import them. Other packages might not be installed so we need to install them before we can import them. In this notebook we will be using the record linkage package which is not pre-installed. We can use the pip install command to install the package. On your home computer you only have to do this once. As our environment is only active for the current session we have to do this everytime we open the binder."
   ]
  },
  {
   "cell_type": "code",
   "execution_count": 1,
   "metadata": {},
   "outputs": [
    {
     "name": "stdout",
     "output_type": "stream",
     "text": [
      "Collecting recordlinkage\n",
      "\u001b[?25l  Downloading https://files.pythonhosted.org/packages/db/26/babbca39d74824e8bc17428a8eb04951a1d63318af7d02beeb2106a1ec26/recordlinkage-0.14-py3-none-any.whl (944kB)\n",
      "\u001b[K     |████████████████████████████████| 952kB 1.8MB/s eta 0:00:01\n",
      "\u001b[?25hRequirement already satisfied: joblib in /opt/conda/lib/python3.7/site-packages (from recordlinkage) (0.14.0)\n",
      "Requirement already satisfied: scikit-learn>=0.19.0 in /opt/conda/lib/python3.7/site-packages (from recordlinkage) (0.21.3)\n",
      "Collecting jellyfish>=0.5.4\n",
      "\u001b[?25l  Downloading https://files.pythonhosted.org/packages/3f/80/bcacc7affb47be7279d7d35225e1a932416ed051b315a7f9df20acf04cbe/jellyfish-0.7.2.tar.gz (133kB)\n",
      "\u001b[K     |████████████████████████████████| 143kB 6.9MB/s eta 0:00:01\n",
      "\u001b[?25hRequirement already satisfied: numpy>=1.13.0 in /opt/conda/lib/python3.7/site-packages (from recordlinkage) (1.17.3)\n",
      "Requirement already satisfied: scipy>=1 in /opt/conda/lib/python3.7/site-packages (from recordlinkage) (1.3.2)\n",
      "Requirement already satisfied: pandas>=0.23 in /opt/conda/lib/python3.7/site-packages (from recordlinkage) (0.25.3)\n",
      "Requirement already satisfied: python-dateutil>=2.6.1 in /opt/conda/lib/python3.7/site-packages (from pandas>=0.23->recordlinkage) (2.8.1)\n",
      "Requirement already satisfied: pytz>=2017.2 in /opt/conda/lib/python3.7/site-packages (from pandas>=0.23->recordlinkage) (2019.3)\n",
      "Requirement already satisfied: six>=1.5 in /opt/conda/lib/python3.7/site-packages (from python-dateutil>=2.6.1->pandas>=0.23->recordlinkage) (1.13.0)\n",
      "Building wheels for collected packages: jellyfish\n",
      "  Building wheel for jellyfish (setup.py) ... \u001b[?25ldone\n",
      "\u001b[?25h  Created wheel for jellyfish: filename=jellyfish-0.7.2-cp37-cp37m-linux_x86_64.whl size=87415 sha256=5c08a8ccac449f37b5c831e75d7c4f1bdf2b083c82cd311a51f6ac059260cf66\n",
      "  Stored in directory: /home/jovyan/.cache/pip/wheels/e8/fe/99/d8fa8f2ef7b82a625b0b77a84d319b0b50693659823c4effb4\n",
      "Successfully built jellyfish\n",
      "Installing collected packages: jellyfish, recordlinkage\n",
      "Successfully installed jellyfish-0.7.2 recordlinkage-0.14\n",
      "Note: you may need to restart the kernel to use updated packages.\n"
     ]
    }
   ],
   "source": [
    "## Installation of Packages\n",
    "%pip install recordlinkage "
   ]
  },
  {
   "cell_type": "markdown",
   "metadata": {},
   "source": [
    "## Import of Packages\n",
    "The record linkage package provides us with tools we can use for record linkages so we don't have to start from scratch and code our own linkage algorithms. We need to import the package recordlinkage and all the modules we would like to use imn addition to the packages we already know"
   ]
  },
  {
   "cell_type": "code",
   "execution_count": 12,
   "metadata": {},
   "outputs": [
    {
     "name": "stdout",
     "output_type": "stream",
     "text": [
      "Imports loaded at 2020-03-02 15:19:03.613955\n"
     ]
    }
   ],
   "source": [
    "# general use imports\n",
    "import pandas as pd\n",
    "import numpy as np\n",
    "import os\n",
    "import glob\n",
    "\n",
    "# Machine learing\n",
    "import sklearn\n",
    "\n",
    "# record linkage \n",
    "import recordlinkage as rl\n",
    "from recordlinkage.preprocessing import clean, phonenumbers, phonetic\n",
    "\n",
    "print( \"Imports loaded at \" + str( pd.datetime.now() ) )"
   ]
  },
  {
   "cell_type": "markdown",
   "metadata": {},
   "source": [
    "## Loading Grant and Patent Data\n",
    "We first have to prepare both of the data by selecting the relevant information and adding the different data for all years into one data frame. We can do this by using a loop to add files that are located in our data folders."
   ]
  },
  {
   "cell_type": "code",
   "execution_count": 13,
   "metadata": {},
   "outputs": [
    {
     "name": "stdout",
     "output_type": "stream",
     "text": [
      "The data directory for the class data is /home/jovyan/Yandex.Disk/BigDataPubPol/data\n"
     ]
    }
   ],
   "source": [
    "# My data directory\n",
    "data_dir = \"/home/jovyan/Yandex.Disk/BigDataPubPol/data\"\n",
    "print( \"The data directory for the class data is \" + data_dir )"
   ]
  },
  {
   "cell_type": "markdown",
   "metadata": {},
   "source": [
    "### Lets Start with the Patent Data"
   ]
  },
  {
   "cell_type": "code",
   "execution_count": 3,
   "metadata": {},
   "outputs": [],
   "source": [
    "# We can also switch work directories using python functions (provided by os package)\n",
    "# Now we are stching into the folder that has the patent data\n",
    "os.chdir(data_dir + \"/patents\")"
   ]
  },
  {
   "cell_type": "code",
   "execution_count": 4,
   "metadata": {},
   "outputs": [],
   "source": [
    "patent2012=pd.read_csv('patents_2012.csv')\n",
    "patent2015=pd.read_csv('patents_2015.csv')\n",
    "patent2018=pd.read_csv('patents_2018.csv')"
   ]
  },
  {
   "cell_type": "code",
   "execution_count": 5,
   "metadata": {},
   "outputs": [],
   "source": [
    "patents1218=pd.concat([patent2012,patent2015,patent2018])"
   ]
  },
  {
   "cell_type": "code",
   "execution_count": 6,
   "metadata": {},
   "outputs": [
    {
     "data": {
      "text/plain": [
       "373305"
      ]
     },
     "execution_count": 6,
     "metadata": {},
     "output_type": "execute_result"
    }
   ],
   "source": [
    "len(patents1218)"
   ]
  },
  {
   "cell_type": "code",
   "execution_count": 7,
   "metadata": {},
   "outputs": [],
   "source": [
    "patents12182=['patents_2012.csv', 'patents_2015.csv','patents_2018.csv']"
   ]
  },
  {
   "cell_type": "code",
   "execution_count": 8,
   "metadata": {},
   "outputs": [],
   "source": [
    "li = []\n",
    "for filename in patents12182:\n",
    "    df=pd.read_csv(filename,usecols=['patent_number','patent_date', \n",
    "                                        'patent_firstnamed_inventor_name_first',\n",
    "                                        'patent_firstnamed_inventor_name_last',\n",
    "                                        'patent_firstnamed_assignee_city', \n",
    "                                        'patent_firstnamed_assignee_state',\n",
    "                                        'patent_firstnamed_assignee_organization'])\n",
    "    li.append(df)\n",
    "patents12182=pd.concat(li, axis=0, ignore_index=True)"
   ]
  },
  {
   "cell_type": "code",
   "execution_count": 9,
   "metadata": {},
   "outputs": [
    {
     "data": {
      "text/plain": [
       "373305"
      ]
     },
     "execution_count": 9,
     "metadata": {},
     "output_type": "execute_result"
    }
   ],
   "source": [
    "len(patents12182)"
   ]
  },
  {
   "cell_type": "code",
   "execution_count": 10,
   "metadata": {},
   "outputs": [
    {
     "data": {
      "text/plain": [
       "Index(['patent_number', 'patent_date', 'patent_firstnamed_inventor_name_first',\n",
       "       'patent_firstnamed_inventor_name_last',\n",
       "       'patent_firstnamed_assignee_organization',\n",
       "       'patent_firstnamed_assignee_city', 'patent_firstnamed_assignee_state'],\n",
       "      dtype='object')"
      ]
     },
     "execution_count": 10,
     "metadata": {},
     "output_type": "execute_result"
    }
   ],
   "source": [
    "# Lets check if this worked\n",
    "patents12182.columns"
   ]
  },
  {
   "cell_type": "markdown",
   "metadata": {},
   "source": [
    "### Grant Data are next"
   ]
  },
  {
   "cell_type": "code",
   "execution_count": 14,
   "metadata": {},
   "outputs": [],
   "source": [
    "# Change into directory of grants data\n",
    "os.chdir(data_dir + \"/projects\")"
   ]
  },
  {
   "cell_type": "code",
   "execution_count": 13,
   "metadata": {},
   "outputs": [],
   "source": [
    "grants12=pd.read_csv=('FedRePORTER_PRJ_C_FY2012.csv')\n",
    "grants15=pd.read_csv=('FedRePORTER_PRJ_C_FY2015.csv')\n",
    "grants18=pd.read_csv=('FedRePORTER_PRJ_C_FY2018.csv')"
   ]
  },
  {
   "cell_type": "code",
   "execution_count": 15,
   "metadata": {},
   "outputs": [],
   "source": [
    "grants121518=['FedRePORTER_PRJ_C_FY2012.csv','FedRePORTER_PRJ_C_FY2015.csv','FedRePORTER_PRJ_C_FY2018.csv']\n",
    "\n",
    "li = []\n",
    "for filename in grants121518:\n",
    "    df=pd.read_csv(filename,usecols=['PROJECT_ID',' CONTACT_PI_PROJECT_LEADER',' ORGANIZATION_NAME', \n",
    "                                    ' ORGANIZATION_STATE',' PROJECT_START_DATE'])\n",
    "    li.append(df)\n",
    "grants121518=pd.concat(li, axis=0, ignore_index=True)"
   ]
  },
  {
   "cell_type": "code",
   "execution_count": null,
   "metadata": {},
   "outputs": [],
   "source": [
    "len(grants121518)"
   ]
  },
  {
   "cell_type": "code",
   "execution_count": 18,
   "metadata": {},
   "outputs": [
    {
     "data": {
      "text/html": [
       "<div>\n",
       "<style scoped>\n",
       "    .dataframe tbody tr th:only-of-type {\n",
       "        vertical-align: middle;\n",
       "    }\n",
       "\n",
       "    .dataframe tbody tr th {\n",
       "        vertical-align: top;\n",
       "    }\n",
       "\n",
       "    .dataframe thead th {\n",
       "        text-align: right;\n",
       "    }\n",
       "</style>\n",
       "<table border=\"1\" class=\"dataframe\">\n",
       "  <thead>\n",
       "    <tr style=\"text-align: right;\">\n",
       "      <th></th>\n",
       "      <th>PROJECT_ID</th>\n",
       "      <th>PROJECT_START_DATE</th>\n",
       "      <th>CONTACT_PI_PROJECT_LEADER</th>\n",
       "      <th>ORGANIZATION_NAME</th>\n",
       "      <th>ORGANIZATION_STATE</th>\n",
       "    </tr>\n",
       "  </thead>\n",
       "  <tbody>\n",
       "    <tr>\n",
       "      <th>0</th>\n",
       "      <td>10086</td>\n",
       "      <td>12/1/2010</td>\n",
       "      <td>MARSHALL, HARVEY E</td>\n",
       "      <td>DUKE UNIVERSITY</td>\n",
       "      <td>NC</td>\n",
       "    </tr>\n",
       "    <tr>\n",
       "      <th>1</th>\n",
       "      <td>10087</td>\n",
       "      <td>7/1/2011</td>\n",
       "      <td>STRIPP, BARRY R</td>\n",
       "      <td>DUKE UNIVERSITY</td>\n",
       "      <td>NC</td>\n",
       "    </tr>\n",
       "    <tr>\n",
       "      <th>2</th>\n",
       "      <td>10088</td>\n",
       "      <td>12/15/2010</td>\n",
       "      <td>TRAPNELL, BRUCE C</td>\n",
       "      <td>CHILDREN'S HOSPITAL MEDICAL CENTER CINCI</td>\n",
       "      <td>OH</td>\n",
       "    </tr>\n",
       "    <tr>\n",
       "      <th>3</th>\n",
       "      <td>10089</td>\n",
       "      <td>7/15/2011</td>\n",
       "      <td>ATAMAS, SERGEI P.</td>\n",
       "      <td>UNIVERSITY OF MARYLAND BALTIMORE</td>\n",
       "      <td>MD</td>\n",
       "    </tr>\n",
       "    <tr>\n",
       "      <th>4</th>\n",
       "      <td>10090</td>\n",
       "      <td>12/15/2010</td>\n",
       "      <td>KONTROGIANNI-KONSTANTOPOULOS, AIKATERINI</td>\n",
       "      <td>UNIVERSITY OF MARYLAND BALTIMORE</td>\n",
       "      <td>MD</td>\n",
       "    </tr>\n",
       "  </tbody>\n",
       "</table>\n",
       "</div>"
      ],
      "text/plain": [
       "   PROJECT_ID  PROJECT_START_DATE                 CONTACT_PI_PROJECT_LEADER  \\\n",
       "0       10086           12/1/2010                        MARSHALL, HARVEY E   \n",
       "1       10087            7/1/2011                           STRIPP, BARRY R   \n",
       "2       10088          12/15/2010                         TRAPNELL, BRUCE C   \n",
       "3       10089           7/15/2011                         ATAMAS, SERGEI P.   \n",
       "4       10090          12/15/2010  KONTROGIANNI-KONSTANTOPOULOS, AIKATERINI   \n",
       "\n",
       "                          ORGANIZATION_NAME  ORGANIZATION_STATE  \n",
       "0                           DUKE UNIVERSITY                  NC  \n",
       "1                           DUKE UNIVERSITY                  NC  \n",
       "2  CHILDREN'S HOSPITAL MEDICAL CENTER CINCI                  OH  \n",
       "3          UNIVERSITY OF MARYLAND BALTIMORE                  MD  \n",
       "4          UNIVERSITY OF MARYLAND BALTIMORE                  MD  "
      ]
     },
     "execution_count": 18,
     "metadata": {},
     "output_type": "execute_result"
    }
   ],
   "source": [
    "grants121518.head()"
   ]
  },
  {
   "cell_type": "code",
   "execution_count": 17,
   "metadata": {},
   "outputs": [
    {
     "data": {
      "text/plain": [
       "Index(['PROJECT_ID', ' PROJECT_START_DATE', ' CONTACT_PI_PROJECT_LEADER',\n",
       "       ' ORGANIZATION_NAME', ' ORGANIZATION_STATE'],\n",
       "      dtype='object')"
      ]
     },
     "execution_count": 17,
     "metadata": {},
     "output_type": "execute_result"
    }
   ],
   "source": [
    "# Lets check if this worked\n",
    "grants121518.columns"
   ]
  },
  {
   "cell_type": "markdown",
   "metadata": {},
   "source": [
    "Now that we have one data frame with the grants info and one data frame with the patent info we can start exploring the identifiers we are planning to use for the linkage. We have to make sure that they are as identical as possible. This phase is called pre processing."
   ]
  },
  {
   "cell_type": "markdown",
   "metadata": {},
   "source": [
    "## The Importance of Pre-Processing\n",
    "Data pre-processing is an important step in a data anlysis project in general, in record linkage applications in particular. The goal of pre-processing is to transform messy data into a dataset that can be used in a project workflow.\n",
    "\n",
    "Linking records from different data sources comes with different challenges that need to be addressed by the analyst. The analyst must determine whether or not two entities (individuals, businesses, geographical units) on two different files are the same. This determination is not always easy. In most of the cases there is no common uniquely identifing characteristic for a entity. For example, is Bob Miller from New Yor the same person as Bob Miller from Chicago in a given dataset? This detemination has to be executed carefully because consequences of wrong linkages may be substantial (is person X the same person as the person X on the list of identified terrorists). Pre-processing can help to make better informed decisions.\n",
    "\n",
    "Pre-processing can be difficult because there are a lot of things to keep in mind. For example, data input errors, such as typos, misspellings, truncation, abbreviations, and missing values need to be corrected. Literature shows that preprocessing can improve matches. In some situations, 90% of the improvement in matching efficiency may be due to preprocessing. The most common reason why matching projects fail is lack of time and resources for data cleaning. \n",
    "\n",
    "In the following we will walk you through some pre-processing steps, these include but are not limited to removing spaces, parsing fields, and standardizing strings."
   ]
  },
  {
   "cell_type": "markdown",
   "metadata": {},
   "source": [
    "### Parsing String Variables\n",
    "\n",
    "By default, the split method returns a list of strings obtained by splitting the original string on spaces or commas, etc. The record linkage package comes with a build in cleaning function we can also use. In addition, we can extract information from strings for example by using regex search commands."
   ]
  },
  {
   "cell_type": "markdown",
   "metadata": {},
   "source": [
    "### Regular Expressions - regex\n",
    "When defining a regular expression search pattern, it is a good idea to start out by writing down, explicitly, in plain English, what you are trying to search for and exactly how you identify when you've found a match.\n",
    "For example, if we look at an author field formatted as \"<last_name> , <first_name> <middle_name>\", in plain English, this is how I would explain where to find the last name: \"starting from the beginning of the line, take all the characters until you see a comma.\"\n",
    "\n",
    "We can build a regular expression that captures this idea from the following components:\n",
    "- ^ Matches beginning of the line\n",
    "- . Matches any character\n",
    "- .+ A modifier that means \"match one or more of the preceding expression\"\n",
    "\n",
    "In a regular expression, there are special reserved characters and character classes like those in the list above. Anything that is not a special character or class is just looked for explicitly (for example, a comma is not a special character in regular expressions, so if it is in a regular expression pattern, the regular expression processor will just be looking for a comma in the string, at that point in the pattern).\n",
    "\n",
    "Note: if you want to actually look for one of these reserved characters, it must be escaped, so that, for example, the expression looks for a literal period, rather than the special regular expression meaning of a period. To escape a reserved character in a regular expression, precede it with a back slash ( \".\" ).\n",
    "This results in the regular expression: ^.+,\n",
    "\n",
    "We start at the beginning of the line ( \"^\" ), matching any characters ( \".+\" ) until we come to the literal character of a comma ( \",\" ).\n",
    "\n",
    "In python, to use a regular expression like this to search for matches in a given string, we use the built-in \"re\" package ( https://docs.python.org/2/library/re.html ), specifically the \"re.search()\" method. To use \"re.search()\", pass it first the regular expression you want to use to search, enclosed in quotation marks, and then the string you want to search within. \n",
    "\n",
    "#### REGEX CHEATSHEET\n",
    "\n",
    "\n",
    "    - abc...     Letters\n",
    "    - 123...     Digits\n",
    "    - \\d         Any Digit\n",
    "    - \\D         Any non-Digit Character\n",
    "    - .          Any Character\n",
    "    - \\.         Period\n",
    "    - [a,b,c]    Only a, b or c\n",
    "    - [^a,b,c]   Not a,b, or c\n",
    "    - [a-z]      Characters a to z\n",
    "    - [0-9]      Numbers 0 to 9\n",
    "    - \\w any     Alphanumeric chracter\n",
    "    - \\W         any non-Alphanumeric character\n",
    "    - {m}        m Repetitions\n",
    "    - {m,n}      m to n repetitions\n",
    "    - *          Zero or more repetitions\n",
    "    - +          One or more repetitions\n",
    "    - ?          Optional Character\n",
    "    - \\s         any Whitespace\n",
    "    - \\S         any non-Whitespace character\n",
    "    - ^...$      Starts & Ends\n",
    "    - (...)      Capture Group\n",
    "    - (a(bc))    Capture sub-Group\n",
    "    - (.*)       Capture All\n",
    "    - (abc|def)  Capture abc or def\n",
    "     \n",
    "#### EXAMPLES\n",
    "    - (\\d\\d|\\D) will match 22X, 23G, 56H, etc...\n",
    "    - \\w will match any characters between 0-9 or a-z\n",
    "    - \\w{1-3} will match any alphanumeric character of a length of 1 to 3. \n",
    "    - (spell|spells) will match spell or spells"
   ]
  },
  {
   "cell_type": "markdown",
   "metadata": {},
   "source": [
    "#### Clean Patent Data\n",
    "Now we will clean and preprocess the data on Patent. We want to check the names and standardize, make sure the location information is valid, look into standardizing Organization names and generate a year variable."
   ]
  },
  {
   "cell_type": "markdown",
   "metadata": {},
   "source": [
    "Lets start with the names and first look at the data check how the names are being recorded. We have first and last name in two different variables."
   ]
  },
  {
   "cell_type": "code",
   "execution_count": 11,
   "metadata": {},
   "outputs": [
    {
     "data": {
      "text/plain": [
       "['Darin E.',\n",
       " 'Terence',\n",
       " 'Calin L.',\n",
       " 'Robert J.',\n",
       " 'Derryn W.',\n",
       " 'Scott Svend',\n",
       " 'Alan',\n",
       " 'Steven A.',\n",
       " 'Oleg',\n",
       " 'Robert T.',\n",
       " 'Christopher T.',\n",
       " 'Brij N.',\n",
       " 'Timothy D.',\n",
       " 'Christopher J.',\n",
       " 'Jason',\n",
       " 'Christopher L',\n",
       " 'Justin C.',\n",
       " 'Giovanni A.',\n",
       " 'Stanley R.',\n",
       " 'Ronald',\n",
       " 'Bhanu Kiran',\n",
       " 'Reginald M.',\n",
       " 'Ramanathan',\n",
       " 'Andrew K.',\n",
       " 'Darren J.',\n",
       " 'George P.',\n",
       " 'Joseph A.',\n",
       " 'Tyler D.',\n",
       " 'David F.',\n",
       " 'Long',\n",
       " 'Niels',\n",
       " 'Timothy',\n",
       " 'Neven',\n",
       " 'Nicholas R.',\n",
       " 'David J.',\n",
       " 'Brett S.',\n",
       " 'Kevin',\n",
       " 'Jan M.',\n",
       " 'Steven J.',\n",
       " 'Russell J.',\n",
       " 'Alfred S.',\n",
       " 'Scott R.',\n",
       " 'Daniel',\n",
       " 'Liwen L.',\n",
       " 'Dick J.',\n",
       " 'Thomas M.',\n",
       " 'Aaron J.',\n",
       " 'Aaron R.',\n",
       " 'Shyan-Cherng',\n",
       " 'Shaun J.']"
      ]
     },
     "execution_count": 11,
     "metadata": {},
     "output_type": "execute_result"
    }
   ],
   "source": [
    "patents_1018['patent_firstnamed_inventor_name_first'].unique().tolist()[50:100]"
   ]
  },
  {
   "cell_type": "markdown",
   "metadata": {},
   "source": [
    "We have some names that have only a first name, for some we have a first and middle name or inital, and then there are also hyphens. So we need to create one variable fname that only contains the first name. "
   ]
  },
  {
   "cell_type": "code",
   "execution_count": 12,
   "metadata": {},
   "outputs": [
    {
     "data": {
      "text/plain": [
       "['Hendron',\n",
       " 'Sheidler',\n",
       " 'Duppong',\n",
       " 'Vodyakho',\n",
       " 'Casper',\n",
       " 'McCord',\n",
       " 'Straka',\n",
       " 'Singh',\n",
       " 'Rice',\n",
       " 'Schmit',\n",
       " 'Grodahl',\n",
       " 'Marohl',\n",
       " 'Gross',\n",
       " 'Wuisan',\n",
       " 'Borkgren',\n",
       " 'Reichen',\n",
       " 'Palla',\n",
       " 'Bindl',\n",
       " 'Sugumaran',\n",
       " 'Rekow',\n",
       " 'Ziskovsky',\n",
       " 'Lysenko',\n",
       " 'Bell',\n",
       " 'Schleicher',\n",
       " 'Rindfleisch',\n",
       " 'Wu',\n",
       " 'Dybro',\n",
       " 'Kraus',\n",
       " 'Pipho',\n",
       " 'Simicevic',\n",
       " 'Bray',\n",
       " 'Rylander',\n",
       " 'Graham',\n",
       " 'Pfohl',\n",
       " 'Wyckoff',\n",
       " 'Ditzler',\n",
       " 'Betts',\n",
       " 'Smemo',\n",
       " 'Wiens',\n",
       " 'Derscheid',\n",
       " 'Dai',\n",
       " 'Hanson',\n",
       " 'Goering',\n",
       " 'Harris',\n",
       " 'Menz',\n",
       " 'Kenkel',\n",
       " 'Huang',\n",
       " 'Wodrich',\n",
       " 'Miller',\n",
       " 'Coers']"
      ]
     },
     "execution_count": 12,
     "metadata": {},
     "output_type": "execute_result"
    }
   ],
   "source": [
    "patents_1018['patent_firstnamed_inventor_name_last'].unique().tolist()[50:100]"
   ]
  },
  {
   "cell_type": "markdown",
   "metadata": {},
   "source": [
    "The last name column looks better. We just need to make sure that all letters are lowercase."
   ]
  },
  {
   "cell_type": "markdown",
   "metadata": {},
   "source": [
    "The record linkage package comes with a built-in cleaning function we can use. The `clean()` function removes any characters such as - and . and  / and \\  :  brackets of all types, and also lowercases by default."
   ]
  },
  {
   "cell_type": "code",
   "execution_count": 13,
   "metadata": {},
   "outputs": [],
   "source": [
    "# remove special characters in names and make them lowercase\n",
    "patents_1018['name_last']=(clean(patents_1018['patent_firstnamed_inventor_name_last'], \n",
    "                                 lowercase=True, remove_brackets=True))\n",
    "patents_1018['name_first']=(clean(patents_1018['patent_firstnamed_inventor_name_first'], \n",
    "                                  lowercase=True, remove_brackets=True))"
   ]
  },
  {
   "cell_type": "code",
   "execution_count": 14,
   "metadata": {},
   "outputs": [
    {
     "data": {
      "text/html": [
       "<div>\n",
       "<style scoped>\n",
       "    .dataframe tbody tr th:only-of-type {\n",
       "        vertical-align: middle;\n",
       "    }\n",
       "\n",
       "    .dataframe tbody tr th {\n",
       "        vertical-align: top;\n",
       "    }\n",
       "\n",
       "    .dataframe thead th {\n",
       "        text-align: right;\n",
       "    }\n",
       "</style>\n",
       "<table border=\"1\" class=\"dataframe\">\n",
       "  <thead>\n",
       "    <tr style=\"text-align: right;\">\n",
       "      <th></th>\n",
       "      <th>patent_firstnamed_inventor_name_last</th>\n",
       "      <th>patent_firstnamed_inventor_name_first</th>\n",
       "      <th>name_last</th>\n",
       "      <th>name_first</th>\n",
       "    </tr>\n",
       "  </thead>\n",
       "  <tbody>\n",
       "    <tr>\n",
       "      <th>0</th>\n",
       "      <td>Sauder</td>\n",
       "      <td>Derek A.</td>\n",
       "      <td>sauder</td>\n",
       "      <td>derek a</td>\n",
       "    </tr>\n",
       "    <tr>\n",
       "      <th>1</th>\n",
       "      <td>Sauder</td>\n",
       "      <td>Derek A.</td>\n",
       "      <td>sauder</td>\n",
       "      <td>derek a</td>\n",
       "    </tr>\n",
       "    <tr>\n",
       "      <th>2</th>\n",
       "      <td>Sauder</td>\n",
       "      <td>Derek A.</td>\n",
       "      <td>sauder</td>\n",
       "      <td>derek a</td>\n",
       "    </tr>\n",
       "    <tr>\n",
       "      <th>3</th>\n",
       "      <td>Sauder</td>\n",
       "      <td>Derek A.</td>\n",
       "      <td>sauder</td>\n",
       "      <td>derek a</td>\n",
       "    </tr>\n",
       "    <tr>\n",
       "      <th>4</th>\n",
       "      <td>Sauder</td>\n",
       "      <td>Derek A.</td>\n",
       "      <td>sauder</td>\n",
       "      <td>derek a</td>\n",
       "    </tr>\n",
       "    <tr>\n",
       "      <th>5</th>\n",
       "      <td>Sauder</td>\n",
       "      <td>Derek A.</td>\n",
       "      <td>sauder</td>\n",
       "      <td>derek a</td>\n",
       "    </tr>\n",
       "    <tr>\n",
       "      <th>6</th>\n",
       "      <td>Allgaier</td>\n",
       "      <td>Ryan Paul</td>\n",
       "      <td>allgaier</td>\n",
       "      <td>ryan paul</td>\n",
       "    </tr>\n",
       "    <tr>\n",
       "      <th>7</th>\n",
       "      <td>Radtke</td>\n",
       "      <td>Ian R.</td>\n",
       "      <td>radtke</td>\n",
       "      <td>ian r</td>\n",
       "    </tr>\n",
       "    <tr>\n",
       "      <th>8</th>\n",
       "      <td>Radtke</td>\n",
       "      <td>Ian R.</td>\n",
       "      <td>radtke</td>\n",
       "      <td>ian r</td>\n",
       "    </tr>\n",
       "    <tr>\n",
       "      <th>9</th>\n",
       "      <td>Sauder</td>\n",
       "      <td>Timothy A.</td>\n",
       "      <td>sauder</td>\n",
       "      <td>timothy a</td>\n",
       "    </tr>\n",
       "  </tbody>\n",
       "</table>\n",
       "</div>"
      ],
      "text/plain": [
       "  patent_firstnamed_inventor_name_last patent_firstnamed_inventor_name_first  \\\n",
       "0                               Sauder                              Derek A.   \n",
       "1                               Sauder                              Derek A.   \n",
       "2                               Sauder                              Derek A.   \n",
       "3                               Sauder                              Derek A.   \n",
       "4                               Sauder                              Derek A.   \n",
       "5                               Sauder                              Derek A.   \n",
       "6                             Allgaier                             Ryan Paul   \n",
       "7                               Radtke                                Ian R.   \n",
       "8                               Radtke                                Ian R.   \n",
       "9                               Sauder                            Timothy A.   \n",
       "\n",
       "  name_last name_first  \n",
       "0    sauder    derek a  \n",
       "1    sauder    derek a  \n",
       "2    sauder    derek a  \n",
       "3    sauder    derek a  \n",
       "4    sauder    derek a  \n",
       "5    sauder    derek a  \n",
       "6  allgaier  ryan paul  \n",
       "7    radtke      ian r  \n",
       "8    radtke      ian r  \n",
       "9    sauder  timothy a  "
      ]
     },
     "execution_count": 14,
     "metadata": {},
     "output_type": "execute_result"
    }
   ],
   "source": [
    "# Compare the orginal names with the manipulates ones\n",
    "patents_1018[['patent_firstnamed_inventor_name_last','patent_firstnamed_inventor_name_first', \n",
    "              'name_last','name_first']].head(10)"
   ]
  },
  {
   "cell_type": "code",
   "execution_count": 15,
   "metadata": {},
   "outputs": [],
   "source": [
    "# Only keep the first name by splitting the name string\n",
    "# And grabbing the first element (at position 0)\n",
    "patents_1018['name_first'] = patents_1018.name_first.str.split(' ').str.get(0)"
   ]
  },
  {
   "cell_type": "code",
   "execution_count": 16,
   "metadata": {
    "scrolled": true
   },
   "outputs": [
    {
     "data": {
      "text/html": [
       "<div>\n",
       "<style scoped>\n",
       "    .dataframe tbody tr th:only-of-type {\n",
       "        vertical-align: middle;\n",
       "    }\n",
       "\n",
       "    .dataframe tbody tr th {\n",
       "        vertical-align: top;\n",
       "    }\n",
       "\n",
       "    .dataframe thead th {\n",
       "        text-align: right;\n",
       "    }\n",
       "</style>\n",
       "<table border=\"1\" class=\"dataframe\">\n",
       "  <thead>\n",
       "    <tr style=\"text-align: right;\">\n",
       "      <th></th>\n",
       "      <th>patent_firstnamed_inventor_name_last</th>\n",
       "      <th>patent_firstnamed_inventor_name_first</th>\n",
       "      <th>name_last</th>\n",
       "      <th>name_first</th>\n",
       "    </tr>\n",
       "  </thead>\n",
       "  <tbody>\n",
       "    <tr>\n",
       "      <th>0</th>\n",
       "      <td>Sauder</td>\n",
       "      <td>Derek A.</td>\n",
       "      <td>sauder</td>\n",
       "      <td>derek</td>\n",
       "    </tr>\n",
       "    <tr>\n",
       "      <th>1</th>\n",
       "      <td>Sauder</td>\n",
       "      <td>Derek A.</td>\n",
       "      <td>sauder</td>\n",
       "      <td>derek</td>\n",
       "    </tr>\n",
       "    <tr>\n",
       "      <th>2</th>\n",
       "      <td>Sauder</td>\n",
       "      <td>Derek A.</td>\n",
       "      <td>sauder</td>\n",
       "      <td>derek</td>\n",
       "    </tr>\n",
       "    <tr>\n",
       "      <th>3</th>\n",
       "      <td>Sauder</td>\n",
       "      <td>Derek A.</td>\n",
       "      <td>sauder</td>\n",
       "      <td>derek</td>\n",
       "    </tr>\n",
       "    <tr>\n",
       "      <th>4</th>\n",
       "      <td>Sauder</td>\n",
       "      <td>Derek A.</td>\n",
       "      <td>sauder</td>\n",
       "      <td>derek</td>\n",
       "    </tr>\n",
       "    <tr>\n",
       "      <th>5</th>\n",
       "      <td>Sauder</td>\n",
       "      <td>Derek A.</td>\n",
       "      <td>sauder</td>\n",
       "      <td>derek</td>\n",
       "    </tr>\n",
       "    <tr>\n",
       "      <th>6</th>\n",
       "      <td>Allgaier</td>\n",
       "      <td>Ryan Paul</td>\n",
       "      <td>allgaier</td>\n",
       "      <td>ryan</td>\n",
       "    </tr>\n",
       "    <tr>\n",
       "      <th>7</th>\n",
       "      <td>Radtke</td>\n",
       "      <td>Ian R.</td>\n",
       "      <td>radtke</td>\n",
       "      <td>ian</td>\n",
       "    </tr>\n",
       "    <tr>\n",
       "      <th>8</th>\n",
       "      <td>Radtke</td>\n",
       "      <td>Ian R.</td>\n",
       "      <td>radtke</td>\n",
       "      <td>ian</td>\n",
       "    </tr>\n",
       "    <tr>\n",
       "      <th>9</th>\n",
       "      <td>Sauder</td>\n",
       "      <td>Timothy A.</td>\n",
       "      <td>sauder</td>\n",
       "      <td>timothy</td>\n",
       "    </tr>\n",
       "  </tbody>\n",
       "</table>\n",
       "</div>"
      ],
      "text/plain": [
       "  patent_firstnamed_inventor_name_last patent_firstnamed_inventor_name_first  \\\n",
       "0                               Sauder                              Derek A.   \n",
       "1                               Sauder                              Derek A.   \n",
       "2                               Sauder                              Derek A.   \n",
       "3                               Sauder                              Derek A.   \n",
       "4                               Sauder                              Derek A.   \n",
       "5                               Sauder                              Derek A.   \n",
       "6                             Allgaier                             Ryan Paul   \n",
       "7                               Radtke                                Ian R.   \n",
       "8                               Radtke                                Ian R.   \n",
       "9                               Sauder                            Timothy A.   \n",
       "\n",
       "  name_last name_first  \n",
       "0    sauder      derek  \n",
       "1    sauder      derek  \n",
       "2    sauder      derek  \n",
       "3    sauder      derek  \n",
       "4    sauder      derek  \n",
       "5    sauder      derek  \n",
       "6  allgaier       ryan  \n",
       "7    radtke        ian  \n",
       "8    radtke        ian  \n",
       "9    sauder    timothy  "
      ]
     },
     "execution_count": 16,
     "metadata": {},
     "output_type": "execute_result"
    }
   ],
   "source": [
    "patents_1018[['patent_firstnamed_inventor_name_last','patent_firstnamed_inventor_name_first', \n",
    "              'name_last','name_first']].head(10)"
   ]
  },
  {
   "cell_type": "markdown",
   "metadata": {},
   "source": [
    "Now lets look at the location data. We have State and City. A first quality check is to see if all the entries are valid entries."
   ]
  },
  {
   "cell_type": "code",
   "execution_count": 17,
   "metadata": {},
   "outputs": [
    {
     "data": {
      "text/plain": [
       "array(['IL', 'CA', 'GA', 'KS', 'NC', 'WA', 'PA', 'NY', 'IN', 'FL', 'MO',\n",
       "       'IA', 'TX', 'MN', 'WI', 'NJ', 'SC', 'MA', 'TN', 'OH', 'VA', 'NV',\n",
       "       'UT', 'OR', 'CO', 'NH', 'MD', 'AR', 'KY', 'WY', 'MI', 'DC', 'DE',\n",
       "       'AZ', 'NE', 'PR', 'CT', 'MS', 'RI', 'NM', 'OK', 'AL', 'MT', 'ID',\n",
       "       'WV', 'LA', 'ME', nan, 'SD', 'VT', 'HI', 'ND', 'AK', 'GU', 'VI',\n",
       "       'MP', 'NB', 'AA'], dtype=object)"
      ]
     },
     "execution_count": 17,
     "metadata": {},
     "output_type": "execute_result"
    }
   ],
   "source": [
    "# Lets look at the unique values of the state variable\n",
    "patents_1018['patent_firstnamed_assignee_state'].unique()"
   ]
  },
  {
   "cell_type": "markdown",
   "metadata": {},
   "source": [
    "Seems like states are recorded using abbreviation and uppercase. We also have missing values. Also seems like we have some abbreviations in here that might not be mainland US. We can count the entries to check."
   ]
  },
  {
   "cell_type": "code",
   "execution_count": 18,
   "metadata": {},
   "outputs": [
    {
     "name": "stdout",
     "output_type": "stream",
     "text": [
      "We have 57 States in our data when we use nunique()\n",
      "We have 58 States in our data when we use len()\n"
     ]
    }
   ],
   "source": [
    "# We can use the nunique() function to count the number of unique values\n",
    "(print(\"We have \" + str(patents_1018['patent_firstnamed_assignee_state'].nunique()) + \n",
    "       \" States in our data when we use nunique()\"))\n",
    "\n",
    "# We can also use a different way to get to this information by getting the length \n",
    "# (number of elements) of our selection\n",
    "(print(\"We have \" + str(len(patents_1018['patent_firstnamed_assignee_state'].unique())) + \n",
    "       \" States in our data when we use len()\"))"
   ]
  },
  {
   "cell_type": "markdown",
   "metadata": {},
   "source": [
    "Why do we have a difference here? \n",
    "\n",
    "Our data includes all US territories and DC. We can get a list of abbreviations of these states and check our entries against this list. But this looks good, we don't have to clean much here."
   ]
  },
  {
   "cell_type": "code",
   "execution_count": 19,
   "metadata": {},
   "outputs": [
    {
     "data": {
      "text/plain": [
       "57"
      ]
     },
     "execution_count": 19,
     "metadata": {},
     "output_type": "execute_result"
    }
   ],
   "source": [
    "# using an extended list, containing 57 territories, including District of Columbia, and the other major US territories\n",
    "listUsStates=['AK', 'AL', 'AR', 'AS', 'AZ', 'CA', 'CO', 'CT', 'DC', 'DE', 'FL', 'GA', 'GU', 'HI', 'IA', \n",
    "              'ID', 'IL', 'IN', 'KS', 'KY', 'LA', 'MA', 'MD', 'ME', 'MI', 'MN', 'MO', 'MP', 'MS', 'MT', \n",
    "              'NC', 'ND', 'NE', 'NH', 'NJ', 'NM', 'NV', 'NY', 'OH', 'OK', 'OR', 'PA', 'PR', 'RI', 'SC', \n",
    "              'SD', 'TN', 'TX', 'UM', 'UT', 'VA', 'VI', 'VT', 'WA', 'WI', 'WV', 'WY']\n",
    "len(listUsStates)"
   ]
  },
  {
   "cell_type": "code",
   "execution_count": 20,
   "metadata": {},
   "outputs": [
    {
     "name": "stdout",
     "output_type": "stream",
     "text": [
      "1098586\n",
      "1098557\n"
     ]
    },
    {
     "data": {
      "text/plain": [
       "array(['IL', 'CA', 'GA', 'KS', 'NC', 'WA', 'PA', 'NY', 'IN', 'FL', 'MO',\n",
       "       'IA', 'TX', 'MN', 'WI', 'NJ', 'SC', 'MA', 'TN', 'OH', 'VA', 'NV',\n",
       "       'UT', 'OR', 'CO', 'NH', 'MD', 'AR', 'KY', 'WY', 'MI', 'DC', 'DE',\n",
       "       'AZ', 'NE', 'PR', 'CT', 'MS', 'RI', 'NM', 'OK', 'AL', 'MT', 'ID',\n",
       "       'WV', 'LA', 'ME', 'SD', 'VT', 'HI', 'ND', 'AK', 'GU', 'VI', 'MP'],\n",
       "      dtype=object)"
      ]
     },
     "execution_count": 20,
     "metadata": {},
     "output_type": "execute_result"
    }
   ],
   "source": [
    "# We can select the rows of our patents data that have a valid state information\n",
    "patents_1018_US = patents_1018.loc[patents_1018['patent_firstnamed_assignee_state'].isin(listUsStates)]\n",
    "\n",
    "# Comparing the counts before and after we can see that we lost some rows \n",
    "print(len(patents_1018['patent_firstnamed_assignee_state']))\n",
    "print(len(patents_1018_US['patent_firstnamed_assignee_state']))\n",
    "\n",
    "# Probably the nans\n",
    "patents_1018_US['patent_firstnamed_assignee_state'].unique()"
   ]
  },
  {
   "cell_type": "markdown",
   "metadata": {},
   "source": [
    "Now lets look at the city information and see what the quality looks like. How would we do this?"
   ]
  },
  {
   "cell_type": "markdown",
   "metadata": {},
   "source": [
    "Next is the Organization name. The names need to be standardized as well. "
   ]
  },
  {
   "cell_type": "code",
   "execution_count": 21,
   "metadata": {},
   "outputs": [
    {
     "data": {
      "text/plain": [
       "['Medtronic Ablation Frontiers LLC',\n",
       " 'St. Jude Medical, Atrial Fibrillation Division, Inc.',\n",
       " 'Lumicell, Inc.',\n",
       " 'Hansen Medical, Inc.',\n",
       " 'Intuitive Surgical Operations, Inc.',\n",
       " 'Buffalo Filter LLC',\n",
       " 'ITKR Software LLC',\n",
       " 'GT Urological, LLC',\n",
       " 'Ormco Corporation',\n",
       " '3M Innovative Properties Company',\n",
       " 'Innerlite, Inc.',\n",
       " 'LifeCell Corporation',\n",
       " 'Pivot Medical, Inc.',\n",
       " 'Twelve, Inc.',\n",
       " 'The Foundry, LLC',\n",
       " 'Tepha, Inc.',\n",
       " 'St. Jude Medical AB',\n",
       " 'St. Jude Medical, Cardiology Division, Inc.',\n",
       " 'Edwards Lifesciences Corporation',\n",
       " 'ST. JUDE MEDICAL PUERTO RICO LLC',\n",
       " 'Shifamed Holdings, LLC',\n",
       " 'Apama Medical, Inc.',\n",
       " 'William Marsh Rice University',\n",
       " 'ZIMMER KNEE CREATIONS, INC.',\n",
       " 'SpringActive, Inc.',\n",
       " 'Subchondral Solutions, Inc.',\n",
       " '232335',\n",
       " 'Arthrex, Inc.',\n",
       " 'Neuropro Technologies, Inc.',\n",
       " 'The Ohio Willow Wood Company',\n",
       " 'Abbott Cardiovascular Systems Inc.',\n",
       " 'Smart Human Dynamics, Inc.',\n",
       " 'New York University',\n",
       " 'Cornell University',\n",
       " 'Vactronix Scientific, LLC',\n",
       " 'H4 Engineering, Inc.',\n",
       " 'Apollo Endosurgery, Inc.',\n",
       " 'Purdue Research Foundation',\n",
       " 'CardiacAssist, Inc.',\n",
       " 'Niveus Medical, Inc.',\n",
       " 'Scion NeuroStim, LLC',\n",
       " 'Optistent, Inc.',\n",
       " 'Abominable Labs, LLC',\n",
       " 'Thinx, LLC',\n",
       " 'Invacare Corporation',\n",
       " '3D Systems, Inc.',\n",
       " 'TURDLE TIME, LLC',\n",
       " 'Zoll Circulation, Inc.',\n",
       " 'CVS Pharmacy, Inc.',\n",
       " 'Strength of Nature, LLC',\n",
       " 'Eastman Chemical Company',\n",
       " 'Pilaris Labs LLC',\n",
       " 'LifeWave, Inc.',\n",
       " 'CorMatrix Cardiovascular, Inc.',\n",
       " 'CORMATRIC CARDIOVASCULAR, INC.',\n",
       " 'OYSTER POINT PHARMA, INC.',\n",
       " 'Oculeve, Inc.',\n",
       " 'The Board of Trustees of the Leland Stanford Junior University',\n",
       " 'KG ACQUISITION LLC',\n",
       " 'Northwestern University',\n",
       " 'STC.UNM',\n",
       " \"Physician's Seal, LLC\",\n",
       " 'Zx Pharma, LLC',\n",
       " 'ANTRIABIO, INC.',\n",
       " 'Kala Pharmaceuticals, Inc.',\n",
       " 'The Johns Hopkins University',\n",
       " 'Massachusetts Institute of Technology',\n",
       " 'WELLESLEY PHARMACEUTICALS, LLC',\n",
       " 'Rosalind Franklin University of Medicine and Science',\n",
       " 'U.S. NUTRACEUTICALS, LLC',\n",
       " 'The William M. Yarbrough Foundation',\n",
       " 'The William M. Yavbrough Foundation',\n",
       " 'Pernix Sleep, Inc.',\n",
       " 'University of Central Florida Research Foundation, Inc.',\n",
       " 'Targacept, Inc.',\n",
       " 'Genzyme Corporation',\n",
       " 'Celgene Corporation',\n",
       " 'The Rockefeller University',\n",
       " 'Savannah State University',\n",
       " 'The Translational Genomics Research Institute',\n",
       " 'Aradigm Corporation',\n",
       " 'Genentech, Inc.',\n",
       " 'The United States of America as represented by the Department of Health and Human Services',\n",
       " 'Epizyme, Inc.',\n",
       " 'The Regents of the University of California',\n",
       " 'Whitehead Institute for Biomedical Research',\n",
       " 'Rigel Pharmaceuticals, Inc.',\n",
       " 'University of PittsburghÃ¢â‚¬â€\\x9dOf the Commonwealth System of Higher Education',\n",
       " 'Gilead Sciences, Inc.',\n",
       " 'Poly-Med, Inc.',\n",
       " 'Berg LLC',\n",
       " 'CuRNA, Inc.',\n",
       " 'University of Washington',\n",
       " 'University of Washington through its Center for Commercialization',\n",
       " 'CERION, LLC',\n",
       " 'Amorcyte, Inc.',\n",
       " 'COTA, Inc.',\n",
       " 'MiMedx Group, Inc.',\n",
       " 'Seres Therapeutics, Inc.',\n",
       " 'Sustain Biologics, LLC',\n",
       " 'Spinalcyte, LLC',\n",
       " 'The Board of Regents of the University of Texas System',\n",
       " 'VasGene Therapeutics, Inc.',\n",
       " 'Vindico NanoBioTechnology, LLC',\n",
       " 'Wellstat ImmunoTherapeutics, LLC',\n",
       " 'GlobeImmune, Inc.',\n",
       " 'President and Fellows of Harvard College',\n",
       " \"Nationwide Children's Hospital, Inc.\",\n",
       " 'MicroVAX, LLC',\n",
       " 'Declion Holdings LLC',\n",
       " 'The Henry M. Jackson Foundation for the Advancement of Military Medicine, Inc.',\n",
       " 'Institute for Cancer Research',\n",
       " 'Biogen MA Inc.',\n",
       " 'Bioverativ Therapeutics Inc.',\n",
       " 'The Regents of the University of Michigan',\n",
       " 'Impax Laboratories, Inc.',\n",
       " 'University of South Florida',\n",
       " 'Alcon Research, Ltd.',\n",
       " 'ArmaGen Technologies, Inc.',\n",
       " 'Brigham Young University',\n",
       " 'Nanomist Systems, LLC',\n",
       " 'R.P. Scherer Technologies, Inc.',\n",
       " 'Microlin, LLC',\n",
       " 'Kalypto Medical, Inc.',\n",
       " 'Ceramatec, Inc.',\n",
       " 'FIELD UPGRADING USA, INC.',\n",
       " 'Adhezion Biomedical, LLC',\n",
       " 'The Board of Trustees of the University of Illinois',\n",
       " 'Abbott Laboratories',\n",
       " 'Colorado State University Research Foundation',\n",
       " 'H & M INNOVATIONS, LLC',\n",
       " 'Thoratec Corporation',\n",
       " 'TC1 LLC',\n",
       " 'VADOVATIONS, INC.',\n",
       " 'NxStage Medical, Inc.',\n",
       " 'Fenwal, Inc.',\n",
       " 'Biomet Biologics, LLC',\n",
       " 'BeWell Health, LLC',\n",
       " 'Medtronic MiniMed, Inc.',\n",
       " 'Antares Pharma, Inc.',\n",
       " 'ENTELLUS MEDICAL, INC.',\n",
       " 'Lexion Medical, LLC',\n",
       " 'Cleveland Medical Devices Inc.',\n",
       " 'JPMorgan Chase Bank, N.A.',\n",
       " 'Pulmonx Corporation',\n",
       " 'Greatbatch Ltd.',\n",
       " 'Imricor Medical Systems, Inc.',\n",
       " 'CATHETER PRECISION, INC.',\n",
       " 'The Spectranetics Corporation',\n",
       " 'Broncus Medical Inc.']"
      ]
     },
     "execution_count": 21,
     "metadata": {},
     "output_type": "execute_result"
    }
   ],
   "source": [
    "patents_1018_US['patent_firstnamed_assignee_organization'].unique().tolist()[150:300]"
   ]
  },
  {
   "cell_type": "code",
   "execution_count": 22,
   "metadata": {},
   "outputs": [
    {
     "name": "stderr",
     "output_type": "stream",
     "text": [
      "/opt/conda/lib/python3.7/site-packages/ipykernel_launcher.py:3: SettingWithCopyWarning: \n",
      "A value is trying to be set on a copy of a slice from a DataFrame.\n",
      "Try using .loc[row_indexer,col_indexer] = value instead\n",
      "\n",
      "See the caveats in the documentation: http://pandas.pydata.org/pandas-docs/stable/user_guide/indexing.html#returning-a-view-versus-a-copy\n",
      "  This is separate from the ipykernel package so we can avoid doing imports until\n"
     ]
    }
   ],
   "source": [
    "# Lets remove the legal form from the organization name\n",
    "patents_1018_US['org_name'] = (patents_1018_US['patent_firstnamed_assignee_organization'].\n",
    "                               str.replace('Inc.|Inc|INC.|INC|LLC|LP|Company|Corporation|Ltd.|N.A.', ''))"
   ]
  },
  {
   "cell_type": "code",
   "execution_count": 23,
   "metadata": {},
   "outputs": [
    {
     "name": "stderr",
     "output_type": "stream",
     "text": [
      "/opt/conda/lib/python3.7/site-packages/ipykernel_launcher.py:2: SettingWithCopyWarning: \n",
      "A value is trying to be set on a copy of a slice from a DataFrame.\n",
      "Try using .loc[row_indexer,col_indexer] = value instead\n",
      "\n",
      "See the caveats in the documentation: http://pandas.pydata.org/pandas-docs/stable/user_guide/indexing.html#returning-a-view-versus-a-copy\n",
      "  \n"
     ]
    }
   ],
   "source": [
    "# Lets also clean the string\n",
    "patents_1018_US['org_name']=clean(patents_1018_US['org_name'], lowercase=True, remove_brackets=True)"
   ]
  },
  {
   "cell_type": "code",
   "execution_count": 24,
   "metadata": {},
   "outputs": [
    {
     "data": {
      "text/html": [
       "<div>\n",
       "<style scoped>\n",
       "    .dataframe tbody tr th:only-of-type {\n",
       "        vertical-align: middle;\n",
       "    }\n",
       "\n",
       "    .dataframe tbody tr th {\n",
       "        vertical-align: top;\n",
       "    }\n",
       "\n",
       "    .dataframe thead th {\n",
       "        text-align: right;\n",
       "    }\n",
       "</style>\n",
       "<table border=\"1\" class=\"dataframe\">\n",
       "  <thead>\n",
       "    <tr style=\"text-align: right;\">\n",
       "      <th></th>\n",
       "      <th>org_name</th>\n",
       "      <th>patent_firstnamed_assignee_organization</th>\n",
       "    </tr>\n",
       "  </thead>\n",
       "  <tbody>\n",
       "    <tr>\n",
       "      <th>0</th>\n",
       "      <td>precision planting</td>\n",
       "      <td>Precision Planting LLC</td>\n",
       "    </tr>\n",
       "    <tr>\n",
       "      <th>1</th>\n",
       "      <td>precision planting</td>\n",
       "      <td>Precision Planting LLC</td>\n",
       "    </tr>\n",
       "    <tr>\n",
       "      <th>2</th>\n",
       "      <td>precision planting</td>\n",
       "      <td>Precision Planting LLC</td>\n",
       "    </tr>\n",
       "    <tr>\n",
       "      <th>3</th>\n",
       "      <td>precision planting</td>\n",
       "      <td>Precision Planting LLC</td>\n",
       "    </tr>\n",
       "    <tr>\n",
       "      <th>4</th>\n",
       "      <td>precision planting</td>\n",
       "      <td>Precision Planting LLC</td>\n",
       "    </tr>\n",
       "    <tr>\n",
       "      <th>5</th>\n",
       "      <td>precision planting</td>\n",
       "      <td>Precision Planting LLC</td>\n",
       "    </tr>\n",
       "    <tr>\n",
       "      <th>6</th>\n",
       "      <td>precision planting</td>\n",
       "      <td>Precision Planting LLC</td>\n",
       "    </tr>\n",
       "    <tr>\n",
       "      <th>7</th>\n",
       "      <td>precision planting</td>\n",
       "      <td>Precision Planting LLC</td>\n",
       "    </tr>\n",
       "    <tr>\n",
       "      <th>8</th>\n",
       "      <td>precision planting</td>\n",
       "      <td>Precision Planting LLC</td>\n",
       "    </tr>\n",
       "    <tr>\n",
       "      <th>9</th>\n",
       "      <td>precision planting</td>\n",
       "      <td>Precision Planting LLC</td>\n",
       "    </tr>\n",
       "    <tr>\n",
       "      <th>10</th>\n",
       "      <td>precision planting</td>\n",
       "      <td>Precision Planting LLC</td>\n",
       "    </tr>\n",
       "    <tr>\n",
       "      <th>11</th>\n",
       "      <td>precision planting</td>\n",
       "      <td>Precision Planting LLC</td>\n",
       "    </tr>\n",
       "    <tr>\n",
       "      <th>12</th>\n",
       "      <td>precision planting</td>\n",
       "      <td>Precision Planting LLC</td>\n",
       "    </tr>\n",
       "    <tr>\n",
       "      <th>13</th>\n",
       "      <td>precision planting</td>\n",
       "      <td>Precision Planting LLC</td>\n",
       "    </tr>\n",
       "    <tr>\n",
       "      <th>14</th>\n",
       "      <td>precision planting</td>\n",
       "      <td>Precision Planting LLC</td>\n",
       "    </tr>\n",
       "    <tr>\n",
       "      <th>15</th>\n",
       "      <td>the climate</td>\n",
       "      <td>The Climate Corporation</td>\n",
       "    </tr>\n",
       "    <tr>\n",
       "      <th>16</th>\n",
       "      <td>the climate</td>\n",
       "      <td>The Climate Corporation</td>\n",
       "    </tr>\n",
       "    <tr>\n",
       "      <th>17</th>\n",
       "      <td>the climate</td>\n",
       "      <td>The Climate Corporation</td>\n",
       "    </tr>\n",
       "    <tr>\n",
       "      <th>18</th>\n",
       "      <td>the climate</td>\n",
       "      <td>The Climate Corporation</td>\n",
       "    </tr>\n",
       "    <tr>\n",
       "      <th>19</th>\n",
       "      <td>the climate</td>\n",
       "      <td>The Climate Corporation</td>\n",
       "    </tr>\n",
       "  </tbody>\n",
       "</table>\n",
       "</div>"
      ],
      "text/plain": [
       "              org_name patent_firstnamed_assignee_organization\n",
       "0   precision planting                  Precision Planting LLC\n",
       "1   precision planting                  Precision Planting LLC\n",
       "2   precision planting                  Precision Planting LLC\n",
       "3   precision planting                  Precision Planting LLC\n",
       "4   precision planting                  Precision Planting LLC\n",
       "5   precision planting                  Precision Planting LLC\n",
       "6   precision planting                  Precision Planting LLC\n",
       "7   precision planting                  Precision Planting LLC\n",
       "8   precision planting                  Precision Planting LLC\n",
       "9   precision planting                  Precision Planting LLC\n",
       "10  precision planting                  Precision Planting LLC\n",
       "11  precision planting                  Precision Planting LLC\n",
       "12  precision planting                  Precision Planting LLC\n",
       "13  precision planting                  Precision Planting LLC\n",
       "14  precision planting                  Precision Planting LLC\n",
       "15         the climate                 The Climate Corporation\n",
       "16         the climate                 The Climate Corporation\n",
       "17         the climate                 The Climate Corporation\n",
       "18         the climate                 The Climate Corporation\n",
       "19         the climate                 The Climate Corporation"
      ]
     },
     "execution_count": 24,
     "metadata": {},
     "output_type": "execute_result"
    }
   ],
   "source": [
    "patents_1018_US[['org_name','patent_firstnamed_assignee_organization']].head(20)"
   ]
  },
  {
   "cell_type": "markdown",
   "metadata": {},
   "source": [
    "As last step we want to keep the variables needed, drop missings and duplicates to improve linkage quality"
   ]
  },
  {
   "cell_type": "code",
   "execution_count": 25,
   "metadata": {},
   "outputs": [],
   "source": [
    "patents_to_link = patents_1018_US[['name_first', 'name_last', 'org_name', \n",
    "                                   'patent_firstnamed_assignee_state', \n",
    "                                   'patent_firstnamed_assignee_city', 'patent_number']].head(20)"
   ]
  },
  {
   "cell_type": "code",
   "execution_count": 26,
   "metadata": {},
   "outputs": [],
   "source": [
    "# Now we can remove all the duplicates if there are any\n",
    "patents_to_link = patents_to_link.drop_duplicates()"
   ]
  },
  {
   "cell_type": "code",
   "execution_count": 27,
   "metadata": {},
   "outputs": [],
   "source": [
    "# Now drop missing values\n",
    "patents_to_link = patents_to_link.dropna()"
   ]
  },
  {
   "cell_type": "code",
   "execution_count": 28,
   "metadata": {},
   "outputs": [],
   "source": [
    "# Rename the patent dataset columns\n",
    "patents_to_link = patents_to_link.rename(columns={'patent_firstnamed_assignee_city':'city'})\n",
    "patents_to_link = patents_to_link.rename(columns={'patent_firstnamed_assignee_state':'state'})"
   ]
  },
  {
   "cell_type": "code",
   "execution_count": 29,
   "metadata": {},
   "outputs": [
    {
     "data": {
      "text/html": [
       "<div>\n",
       "<style scoped>\n",
       "    .dataframe tbody tr th:only-of-type {\n",
       "        vertical-align: middle;\n",
       "    }\n",
       "\n",
       "    .dataframe tbody tr th {\n",
       "        vertical-align: top;\n",
       "    }\n",
       "\n",
       "    .dataframe thead th {\n",
       "        text-align: right;\n",
       "    }\n",
       "</style>\n",
       "<table border=\"1\" class=\"dataframe\">\n",
       "  <thead>\n",
       "    <tr style=\"text-align: right;\">\n",
       "      <th></th>\n",
       "      <th>name_first</th>\n",
       "      <th>name_last</th>\n",
       "      <th>org_name</th>\n",
       "      <th>state</th>\n",
       "      <th>city</th>\n",
       "      <th>patent_number</th>\n",
       "    </tr>\n",
       "  </thead>\n",
       "  <tbody>\n",
       "    <tr>\n",
       "      <th>0</th>\n",
       "      <td>derek</td>\n",
       "      <td>sauder</td>\n",
       "      <td>precision planting</td>\n",
       "      <td>IL</td>\n",
       "      <td>Tremont</td>\n",
       "      <td>9532496</td>\n",
       "    </tr>\n",
       "    <tr>\n",
       "      <th>1</th>\n",
       "      <td>derek</td>\n",
       "      <td>sauder</td>\n",
       "      <td>precision planting</td>\n",
       "      <td>IL</td>\n",
       "      <td>Tremont</td>\n",
       "      <td>9750174</td>\n",
       "    </tr>\n",
       "    <tr>\n",
       "      <th>2</th>\n",
       "      <td>derek</td>\n",
       "      <td>sauder</td>\n",
       "      <td>precision planting</td>\n",
       "      <td>IL</td>\n",
       "      <td>Tremont</td>\n",
       "      <td>9752596</td>\n",
       "    </tr>\n",
       "    <tr>\n",
       "      <th>3</th>\n",
       "      <td>derek</td>\n",
       "      <td>sauder</td>\n",
       "      <td>precision planting</td>\n",
       "      <td>IL</td>\n",
       "      <td>Tremont</td>\n",
       "      <td>9801322</td>\n",
       "    </tr>\n",
       "    <tr>\n",
       "      <th>4</th>\n",
       "      <td>derek</td>\n",
       "      <td>sauder</td>\n",
       "      <td>precision planting</td>\n",
       "      <td>IL</td>\n",
       "      <td>Tremont</td>\n",
       "      <td>9848523</td>\n",
       "    </tr>\n",
       "  </tbody>\n",
       "</table>\n",
       "</div>"
      ],
      "text/plain": [
       "  name_first name_last            org_name state     city patent_number\n",
       "0      derek    sauder  precision planting    IL  Tremont       9532496\n",
       "1      derek    sauder  precision planting    IL  Tremont       9750174\n",
       "2      derek    sauder  precision planting    IL  Tremont       9752596\n",
       "3      derek    sauder  precision planting    IL  Tremont       9801322\n",
       "4      derek    sauder  precision planting    IL  Tremont       9848523"
      ]
     },
     "execution_count": 29,
     "metadata": {},
     "output_type": "execute_result"
    }
   ],
   "source": [
    "patents_to_link.head()"
   ]
  },
  {
   "cell_type": "markdown",
   "metadata": {},
   "source": [
    "Now we are done with the inital data prep work for the patent file. Please keep in mind that we just provided some examples for you to demonstrate the process. You can add as many further steps to it as necessary. "
   ]
  },
  {
   "cell_type": "markdown",
   "metadata": {},
   "source": [
    "#### Clean Grant Data\n",
    "Now we will clean and preprocess the grants Data. We want to make them comparable to the patent data. So we need a field for first name, last name, organisation name, city, state, amd the grant number"
   ]
  },
  {
   "cell_type": "code",
   "execution_count": 46,
   "metadata": {},
   "outputs": [
    {
     "data": {
      "text/html": [
       "<div>\n",
       "<style scoped>\n",
       "    .dataframe tbody tr th:only-of-type {\n",
       "        vertical-align: middle;\n",
       "    }\n",
       "\n",
       "    .dataframe tbody tr th {\n",
       "        vertical-align: top;\n",
       "    }\n",
       "\n",
       "    .dataframe thead th {\n",
       "        text-align: right;\n",
       "    }\n",
       "</style>\n",
       "<table border=\"1\" class=\"dataframe\">\n",
       "  <thead>\n",
       "    <tr style=\"text-align: right;\">\n",
       "      <th></th>\n",
       "      <th>PROJECT_ID</th>\n",
       "      <th>PROJECT_START_DATE</th>\n",
       "      <th>CONTACT_PI_PROJECT_LEADER</th>\n",
       "      <th>ORGANIZATION_NAME</th>\n",
       "      <th>ORGANIZATION_CITY</th>\n",
       "      <th>ORGANIZATION_STATE</th>\n",
       "      <th>name_first</th>\n",
       "      <th>name_last</th>\n",
       "    </tr>\n",
       "  </thead>\n",
       "  <tbody>\n",
       "    <tr>\n",
       "      <th>0</th>\n",
       "      <td>150216</td>\n",
       "      <td>9/1/2013</td>\n",
       "      <td>CHILDRESS, AMY E</td>\n",
       "      <td>UNIVERSITY OF SOUTHERN CALIFORNIA</td>\n",
       "      <td>NaN</td>\n",
       "      <td>NaN</td>\n",
       "      <td>amy</td>\n",
       "      <td>childress</td>\n",
       "    </tr>\n",
       "    <tr>\n",
       "      <th>1</th>\n",
       "      <td>463805</td>\n",
       "      <td>6/1/2013</td>\n",
       "      <td>GANIKHANOV, FERUZ</td>\n",
       "      <td>UNIVERSITY OF RHODE ISLAND</td>\n",
       "      <td>KINGSTON</td>\n",
       "      <td>RI</td>\n",
       "      <td>feruz</td>\n",
       "      <td>ganikhanov</td>\n",
       "    </tr>\n",
       "    <tr>\n",
       "      <th>2</th>\n",
       "      <td>463806</td>\n",
       "      <td>10/1/2013</td>\n",
       "      <td>CLEAVES, HENDERSON</td>\n",
       "      <td>BLUE MARBLE SPACE</td>\n",
       "      <td>SEATTLE</td>\n",
       "      <td>WA</td>\n",
       "      <td>henderson</td>\n",
       "      <td>cleaves</td>\n",
       "    </tr>\n",
       "    <tr>\n",
       "      <th>3</th>\n",
       "      <td>463807</td>\n",
       "      <td>10/1/2013</td>\n",
       "      <td>MOOMAW, ELLEN</td>\n",
       "      <td>KENNESAW STATE UNIVERSITY RESEARCH AND SERVICE...</td>\n",
       "      <td>KENNESAW</td>\n",
       "      <td>GA</td>\n",
       "      <td>ellen</td>\n",
       "      <td>moomaw</td>\n",
       "    </tr>\n",
       "    <tr>\n",
       "      <th>4</th>\n",
       "      <td>463808</td>\n",
       "      <td>11/1/2013</td>\n",
       "      <td>AKINWANDE, DEJI</td>\n",
       "      <td>UNIVERSITY OF TEXAS AUSTIN</td>\n",
       "      <td>AUSTIN</td>\n",
       "      <td>TX</td>\n",
       "      <td>deji</td>\n",
       "      <td>akinwande</td>\n",
       "    </tr>\n",
       "    <tr>\n",
       "      <th>5</th>\n",
       "      <td>463809</td>\n",
       "      <td>9/15/2013</td>\n",
       "      <td>CHASE, CATHERINE</td>\n",
       "      <td>COLUMBIA UNIVERSITY TEACHERS COLLEGE</td>\n",
       "      <td>NEW YORK</td>\n",
       "      <td>NY</td>\n",
       "      <td>catherine</td>\n",
       "      <td>chase</td>\n",
       "    </tr>\n",
       "    <tr>\n",
       "      <th>6</th>\n",
       "      <td>463810</td>\n",
       "      <td>8/16/2013</td>\n",
       "      <td>CHAN, JULIA Y</td>\n",
       "      <td>UNIVERSITY OF TEXAS DALLAS</td>\n",
       "      <td>RICHARDSON</td>\n",
       "      <td>TX</td>\n",
       "      <td>julia</td>\n",
       "      <td>chan</td>\n",
       "    </tr>\n",
       "    <tr>\n",
       "      <th>7</th>\n",
       "      <td>463811</td>\n",
       "      <td>11/1/2013</td>\n",
       "      <td>LUCAS, JESSICA</td>\n",
       "      <td>SANTA CLARA UNIVERSITY</td>\n",
       "      <td>SANTA CLARA</td>\n",
       "      <td>CA</td>\n",
       "      <td>jessica</td>\n",
       "      <td>lucas</td>\n",
       "    </tr>\n",
       "    <tr>\n",
       "      <th>8</th>\n",
       "      <td>463812</td>\n",
       "      <td>3/1/2014</td>\n",
       "      <td>WATSON, KARAN L</td>\n",
       "      <td>TEXAS ENGINEERING EXPERIMENT STATION</td>\n",
       "      <td>COLLEGE STATION</td>\n",
       "      <td>TX</td>\n",
       "      <td>karan</td>\n",
       "      <td>watson</td>\n",
       "    </tr>\n",
       "    <tr>\n",
       "      <th>9</th>\n",
       "      <td>463813</td>\n",
       "      <td>10/1/2013</td>\n",
       "      <td>ARBUCKLE, BENJAMIN</td>\n",
       "      <td>UNIVERSITY OF NORTH CAROLINA CHAPEL HILL</td>\n",
       "      <td>CHAPEL HILL</td>\n",
       "      <td>NC</td>\n",
       "      <td>benjamin</td>\n",
       "      <td>arbuckle</td>\n",
       "    </tr>\n",
       "  </tbody>\n",
       "</table>\n",
       "</div>"
      ],
      "text/plain": [
       "   PROJECT_ID PROJECT_START_DATE CONTACT_PI_PROJECT_LEADER  \\\n",
       "0      150216           9/1/2013          CHILDRESS, AMY E   \n",
       "1      463805           6/1/2013         GANIKHANOV, FERUZ   \n",
       "2      463806          10/1/2013        CLEAVES, HENDERSON   \n",
       "3      463807          10/1/2013             MOOMAW, ELLEN   \n",
       "4      463808          11/1/2013           AKINWANDE, DEJI   \n",
       "5      463809          9/15/2013          CHASE, CATHERINE   \n",
       "6      463810          8/16/2013             CHAN, JULIA Y   \n",
       "7      463811          11/1/2013            LUCAS, JESSICA   \n",
       "8      463812           3/1/2014           WATSON, KARAN L   \n",
       "9      463813          10/1/2013        ARBUCKLE, BENJAMIN   \n",
       "\n",
       "                                   ORGANIZATION_NAME ORGANIZATION_CITY  \\\n",
       "0                  UNIVERSITY OF SOUTHERN CALIFORNIA               NaN   \n",
       "1                         UNIVERSITY OF RHODE ISLAND          KINGSTON   \n",
       "2                                  BLUE MARBLE SPACE           SEATTLE   \n",
       "3  KENNESAW STATE UNIVERSITY RESEARCH AND SERVICE...          KENNESAW   \n",
       "4                         UNIVERSITY OF TEXAS AUSTIN            AUSTIN   \n",
       "5               COLUMBIA UNIVERSITY TEACHERS COLLEGE          NEW YORK   \n",
       "6                         UNIVERSITY OF TEXAS DALLAS        RICHARDSON   \n",
       "7                             SANTA CLARA UNIVERSITY       SANTA CLARA   \n",
       "8               TEXAS ENGINEERING EXPERIMENT STATION   COLLEGE STATION   \n",
       "9           UNIVERSITY OF NORTH CAROLINA CHAPEL HILL       CHAPEL HILL   \n",
       "\n",
       "  ORGANIZATION_STATE name_first   name_last  \n",
       "0                NaN        amy   childress  \n",
       "1                 RI      feruz  ganikhanov  \n",
       "2                 WA  henderson     cleaves  \n",
       "3                 GA      ellen      moomaw  \n",
       "4                 TX       deji   akinwande  \n",
       "5                 NY  catherine       chase  \n",
       "6                 TX      julia        chan  \n",
       "7                 CA    jessica       lucas  \n",
       "8                 TX      karan      watson  \n",
       "9                 NC   benjamin    arbuckle  "
      ]
     },
     "execution_count": 46,
     "metadata": {},
     "output_type": "execute_result"
    }
   ],
   "source": [
    "grants_1018.head(10)"
   ]
  },
  {
   "cell_type": "markdown",
   "metadata": {},
   "source": [
    "We can see that the names are in one field. There are missings in the City and State. The column names are upper case. It looks like the first entry in the name field is the last name and the one after the comma the first name."
   ]
  },
  {
   "cell_type": "code",
   "execution_count": 31,
   "metadata": {},
   "outputs": [
    {
     "data": {
      "text/html": [
       "<div>\n",
       "<style scoped>\n",
       "    .dataframe tbody tr th:only-of-type {\n",
       "        vertical-align: middle;\n",
       "    }\n",
       "\n",
       "    .dataframe tbody tr th {\n",
       "        vertical-align: top;\n",
       "    }\n",
       "\n",
       "    .dataframe thead th {\n",
       "        text-align: right;\n",
       "    }\n",
       "</style>\n",
       "<table border=\"1\" class=\"dataframe\">\n",
       "  <thead>\n",
       "    <tr style=\"text-align: right;\">\n",
       "      <th></th>\n",
       "      <th>PROJECT_ID</th>\n",
       "      <th>PROJECT_START_DATE</th>\n",
       "      <th>CONTACT_PI_PROJECT_LEADER</th>\n",
       "      <th>ORGANIZATION_NAME</th>\n",
       "      <th>ORGANIZATION_CITY</th>\n",
       "      <th>ORGANIZATION_STATE</th>\n",
       "    </tr>\n",
       "  </thead>\n",
       "  <tbody>\n",
       "    <tr>\n",
       "      <th>4577</th>\n",
       "      <td>468381</td>\n",
       "      <td>8/15/2013</td>\n",
       "      <td>E KOEPPE, ROGER, II,</td>\n",
       "      <td>UNIVERSITY OF ARKANSAS AT FAYETTEVILLE</td>\n",
       "      <td>FAYETTEVILLE</td>\n",
       "      <td>AR</td>\n",
       "    </tr>\n",
       "    <tr>\n",
       "      <th>4613</th>\n",
       "      <td>468417</td>\n",
       "      <td>8/15/2013</td>\n",
       "      <td>BROOKS, JR, FREDERICK P</td>\n",
       "      <td>UNIVERSITY OF NORTH CAROLINA CHAPEL HILL</td>\n",
       "      <td>CHAPEL HILL</td>\n",
       "      <td>NC</td>\n",
       "    </tr>\n",
       "    <tr>\n",
       "      <th>9332</th>\n",
       "      <td>473136</td>\n",
       "      <td>4/15/2013</td>\n",
       "      <td>JONES, JR., WAYNE E</td>\n",
       "      <td>STATE UNIVERSITY NEW YORK BINGHAMTON</td>\n",
       "      <td>BINGHAMTON</td>\n",
       "      <td>NY</td>\n",
       "    </tr>\n",
       "    <tr>\n",
       "      <th>10197</th>\n",
       "      <td>474001</td>\n",
       "      <td>2/6/2013</td>\n",
       "      <td>MCNUTT, JR., RALPH L</td>\n",
       "      <td>THE JOHNS HOPKINS UNIVERSITY</td>\n",
       "      <td>BALTIMORE</td>\n",
       "      <td>MD</td>\n",
       "    </tr>\n",
       "    <tr>\n",
       "      <th>10406</th>\n",
       "      <td>474210</td>\n",
       "      <td>3/1/2013</td>\n",
       "      <td>AUSTIN, JR., JAMES A</td>\n",
       "      <td>UNIVERSITY OF TEXAS AUSTIN</td>\n",
       "      <td>AUSTIN</td>\n",
       "      <td>TX</td>\n",
       "    </tr>\n",
       "    <tr>\n",
       "      <th>11924</th>\n",
       "      <td>475728</td>\n",
       "      <td>4/1/2013</td>\n",
       "      <td>TANGUAY,JR., ARMAND R</td>\n",
       "      <td>UNIVERSITY OF SOUTHERN CALIFORNIA</td>\n",
       "      <td>LOS ANGELES</td>\n",
       "      <td>CA</td>\n",
       "    </tr>\n",
       "    <tr>\n",
       "      <th>13968</th>\n",
       "      <td>477773</td>\n",
       "      <td>2/1/2011</td>\n",
       "      <td>GRAY, SHELLEY I, PHD, CCC-SLP</td>\n",
       "      <td>ARIZONA STATE UNIVERSITY-TEMPE CAMPUS</td>\n",
       "      <td>TEMPE</td>\n",
       "      <td>AZ</td>\n",
       "    </tr>\n",
       "    <tr>\n",
       "      <th>14312</th>\n",
       "      <td>478119</td>\n",
       "      <td>7/1/2010</td>\n",
       "      <td>REMICK, DANIEL G.,</td>\n",
       "      <td>BOSTON UNIVERSITY MEDICAL CAMPUS</td>\n",
       "      <td>BOSTON</td>\n",
       "      <td>MA</td>\n",
       "    </tr>\n",
       "    <tr>\n",
       "      <th>15716</th>\n",
       "      <td>479523</td>\n",
       "      <td>5/3/2004</td>\n",
       "      <td>BAZAN, MD, PHD, NICOLAS G</td>\n",
       "      <td>LOUISIANA STATE UNIV HSC NEW ORLEANS</td>\n",
       "      <td>NEW ORLEANS</td>\n",
       "      <td>LA</td>\n",
       "    </tr>\n",
       "    <tr>\n",
       "      <th>21389</th>\n",
       "      <td>485204</td>\n",
       "      <td>7/1/2000</td>\n",
       "      <td>KIDD, GERALD, JR</td>\n",
       "      <td>BOSTON UNIVERSITY</td>\n",
       "      <td>BOSTON</td>\n",
       "      <td>MA</td>\n",
       "    </tr>\n",
       "  </tbody>\n",
       "</table>\n",
       "</div>"
      ],
      "text/plain": [
       "       PROJECT_ID PROJECT_START_DATE      CONTACT_PI_PROJECT_LEADER  \\\n",
       "4577       468381          8/15/2013           E KOEPPE, ROGER, II,   \n",
       "4613       468417          8/15/2013        BROOKS, JR, FREDERICK P   \n",
       "9332       473136          4/15/2013            JONES, JR., WAYNE E   \n",
       "10197      474001           2/6/2013           MCNUTT, JR., RALPH L   \n",
       "10406      474210           3/1/2013           AUSTIN, JR., JAMES A   \n",
       "11924      475728           4/1/2013          TANGUAY,JR., ARMAND R   \n",
       "13968      477773           2/1/2011  GRAY, SHELLEY I, PHD, CCC-SLP   \n",
       "14312      478119           7/1/2010             REMICK, DANIEL G.,   \n",
       "15716      479523           5/3/2004      BAZAN, MD, PHD, NICOLAS G   \n",
       "21389      485204           7/1/2000               KIDD, GERALD, JR   \n",
       "\n",
       "                              ORGANIZATION_NAME ORGANIZATION_CITY  \\\n",
       "4577     UNIVERSITY OF ARKANSAS AT FAYETTEVILLE      FAYETTEVILLE   \n",
       "4613   UNIVERSITY OF NORTH CAROLINA CHAPEL HILL       CHAPEL HILL   \n",
       "9332       STATE UNIVERSITY NEW YORK BINGHAMTON        BINGHAMTON   \n",
       "10197              THE JOHNS HOPKINS UNIVERSITY         BALTIMORE   \n",
       "10406                UNIVERSITY OF TEXAS AUSTIN            AUSTIN   \n",
       "11924         UNIVERSITY OF SOUTHERN CALIFORNIA       LOS ANGELES   \n",
       "13968     ARIZONA STATE UNIVERSITY-TEMPE CAMPUS             TEMPE   \n",
       "14312          BOSTON UNIVERSITY MEDICAL CAMPUS            BOSTON   \n",
       "15716      LOUISIANA STATE UNIV HSC NEW ORLEANS       NEW ORLEANS   \n",
       "21389                         BOSTON UNIVERSITY            BOSTON   \n",
       "\n",
       "      ORGANIZATION_STATE  \n",
       "4577                  AR  \n",
       "4613                  NC  \n",
       "9332                  NY  \n",
       "10197                 MD  \n",
       "10406                 TX  \n",
       "11924                 CA  \n",
       "13968                 AZ  \n",
       "14312                 MA  \n",
       "15716                 LA  \n",
       "21389                 MA  "
      ]
     },
     "execution_count": 31,
     "metadata": {},
     "output_type": "execute_result"
    }
   ],
   "source": [
    "# Some names have titles in them\n",
    "(grants_1018[grants_1018.CONTACT_PI_PROJECT_LEADER.str.count(',')>1]).head(10)"
   ]
  },
  {
   "cell_type": "code",
   "execution_count": 32,
   "metadata": {},
   "outputs": [],
   "source": [
    "# To clean these more complicated name problems we can use regex\n",
    "grants_1018.loc[grants_1018.CONTACT_PI_PROJECT_LEADER.str.count(',')>1,'CONTACT_PI_PROJECT_LEADER']  =\\\n",
    "                            grant.CONTACT_PI_PROJECT_LEADER.str.replace(\\\n",
    "#It's not possible to break the regex with the \\ character\n",
    "'(?<=[\\s,]).?(PH\\.?D\\.?|MA|MD|MBA|SCD|MSCE|MS|CDFM-A|CCC-SLP|FACS|PHARMD|M\\.?P\\.?H|MSC|PH\\.D\\. DABT)(?=,|$)','')  \n",
    "\n",
    "#the replace statement leaves behind lots of commas\n",
    "#this will reduce multiple commas with only one\n",
    "grants_1018['CONTACT_PI_PROJECT_LEADER'] = grants_1018.CONTACT_PI_PROJECT_LEADER.str.replace(',{2,}',',')\n",
    "\n",
    "# this will remove a comma if it's at the very end of the field (e.g. \"Doe, Joe,\")\n",
    "grants_1018['CONTACT_PI_PROJECT_LEADER'] = grants_1018.CONTACT_PI_PROJECT_LEADER.str.replace(',$','')"
   ]
  },
  {
   "cell_type": "markdown",
   "metadata": {},
   "source": [
    "```\n",
    "(?<=[\\s,]).?(PH\\.?D\\.?|MA|MD|CCC-SLP|FACS|PHARMD|M\\.?P\\.?H|MSC)(?=,|$)\n",
    "```\n",
    "\n",
    "where the first part...\n",
    "```\n",
    "(?<=[\\s,])\n",
    "```\n",
    "...means that all my substrings of interest must be preceded either with a space or a comma\n",
    "\n",
    "\n",
    "then...\n",
    "```\n",
    ".?\n",
    "```\n",
    "... is for mathing one character, that will be the space or comma defined earlier\n",
    "\n",
    "then...\n",
    "```\n",
    "(PH\\.?D\\.?|MA|MD|MBA|MSCE|MS|CDFM-A|CCC-SLP|FACS|PHARMD|M\\.?P\\.?H|MSC|PH\\.D\\. DABT)\n",
    "```\n",
    "... matches all the substrings I'm interested to remove. Here _PH\\.?D\\.?_ is matching PHD and PH.D and PH.D. , etc. Same with M\\.?P\\.?H. \n",
    "\n",
    "finally...\n",
    "```\n",
    "(?=,|$)\n",
    "```\n",
    "... means that the substring of interest must be followed by either a comma or the end of the string.\n",
    "\n",
    "The first and last section prevents to erase part of names, such as **MA**RIA"
   ]
  },
  {
   "cell_type": "code",
   "execution_count": 33,
   "metadata": {},
   "outputs": [],
   "source": [
    "# Now we can split the PI name in two columns\n",
    "grants_1018['name_first'] = grants_1018.CONTACT_PI_PROJECT_LEADER.str.split(',',1).str.get(1)\n",
    "grants_1018['name_last'] = grants_1018.CONTACT_PI_PROJECT_LEADER.str.split(',',1).str.get(0)"
   ]
  },
  {
   "cell_type": "code",
   "execution_count": 34,
   "metadata": {},
   "outputs": [],
   "source": [
    "# Remove whitespaces\n",
    "grants_1018['name_first']=grants_1018.name_first.str.strip()\n",
    "grants_1018['name_last']=grants_1018.name_last.str.strip()"
   ]
  },
  {
   "cell_type": "code",
   "execution_count": 35,
   "metadata": {},
   "outputs": [
    {
     "data": {
      "text/html": [
       "<div>\n",
       "<style scoped>\n",
       "    .dataframe tbody tr th:only-of-type {\n",
       "        vertical-align: middle;\n",
       "    }\n",
       "\n",
       "    .dataframe tbody tr th {\n",
       "        vertical-align: top;\n",
       "    }\n",
       "\n",
       "    .dataframe thead th {\n",
       "        text-align: right;\n",
       "    }\n",
       "</style>\n",
       "<table border=\"1\" class=\"dataframe\">\n",
       "  <thead>\n",
       "    <tr style=\"text-align: right;\">\n",
       "      <th></th>\n",
       "      <th>name_first</th>\n",
       "      <th>name_last</th>\n",
       "    </tr>\n",
       "  </thead>\n",
       "  <tbody>\n",
       "    <tr>\n",
       "      <th>0</th>\n",
       "      <td>AMY E</td>\n",
       "      <td>CHILDRESS</td>\n",
       "    </tr>\n",
       "    <tr>\n",
       "      <th>1</th>\n",
       "      <td>FERUZ</td>\n",
       "      <td>GANIKHANOV</td>\n",
       "    </tr>\n",
       "    <tr>\n",
       "      <th>2</th>\n",
       "      <td>HENDERSON</td>\n",
       "      <td>CLEAVES</td>\n",
       "    </tr>\n",
       "    <tr>\n",
       "      <th>3</th>\n",
       "      <td>ELLEN</td>\n",
       "      <td>MOOMAW</td>\n",
       "    </tr>\n",
       "    <tr>\n",
       "      <th>4</th>\n",
       "      <td>DEJI</td>\n",
       "      <td>AKINWANDE</td>\n",
       "    </tr>\n",
       "    <tr>\n",
       "      <th>5</th>\n",
       "      <td>CATHERINE</td>\n",
       "      <td>CHASE</td>\n",
       "    </tr>\n",
       "    <tr>\n",
       "      <th>6</th>\n",
       "      <td>JULIA Y</td>\n",
       "      <td>CHAN</td>\n",
       "    </tr>\n",
       "    <tr>\n",
       "      <th>7</th>\n",
       "      <td>JESSICA</td>\n",
       "      <td>LUCAS</td>\n",
       "    </tr>\n",
       "    <tr>\n",
       "      <th>8</th>\n",
       "      <td>KARAN L</td>\n",
       "      <td>WATSON</td>\n",
       "    </tr>\n",
       "    <tr>\n",
       "      <th>9</th>\n",
       "      <td>BENJAMIN</td>\n",
       "      <td>ARBUCKLE</td>\n",
       "    </tr>\n",
       "    <tr>\n",
       "      <th>10</th>\n",
       "      <td>M. BEATRICE</td>\n",
       "      <td>MAGNANI</td>\n",
       "    </tr>\n",
       "    <tr>\n",
       "      <th>11</th>\n",
       "      <td>MICHAEL</td>\n",
       "      <td>SHUR</td>\n",
       "    </tr>\n",
       "    <tr>\n",
       "      <th>12</th>\n",
       "      <td>OLIVIA A</td>\n",
       "      <td>GRAEVE</td>\n",
       "    </tr>\n",
       "    <tr>\n",
       "      <th>13</th>\n",
       "      <td>HANTAO</td>\n",
       "      <td>JI</td>\n",
       "    </tr>\n",
       "    <tr>\n",
       "      <th>14</th>\n",
       "      <td>CORRINNE</td>\n",
       "      <td>SANDE</td>\n",
       "    </tr>\n",
       "    <tr>\n",
       "      <th>15</th>\n",
       "      <td>GARY</td>\n",
       "      <td>BLEDSOE</td>\n",
       "    </tr>\n",
       "    <tr>\n",
       "      <th>16</th>\n",
       "      <td>HE</td>\n",
       "      <td>HUANG</td>\n",
       "    </tr>\n",
       "    <tr>\n",
       "      <th>17</th>\n",
       "      <td>SIVA A</td>\n",
       "      <td>VANAPALLI</td>\n",
       "    </tr>\n",
       "    <tr>\n",
       "      <th>18</th>\n",
       "      <td>BAIKUN</td>\n",
       "      <td>LI</td>\n",
       "    </tr>\n",
       "    <tr>\n",
       "      <th>19</th>\n",
       "      <td>JOHN M</td>\n",
       "      <td>WEATHERS</td>\n",
       "    </tr>\n",
       "  </tbody>\n",
       "</table>\n",
       "</div>"
      ],
      "text/plain": [
       "     name_first   name_last\n",
       "0         AMY E   CHILDRESS\n",
       "1         FERUZ  GANIKHANOV\n",
       "2     HENDERSON     CLEAVES\n",
       "3         ELLEN      MOOMAW\n",
       "4          DEJI   AKINWANDE\n",
       "5     CATHERINE       CHASE\n",
       "6       JULIA Y        CHAN\n",
       "7       JESSICA       LUCAS\n",
       "8       KARAN L      WATSON\n",
       "9      BENJAMIN    ARBUCKLE\n",
       "10  M. BEATRICE     MAGNANI\n",
       "11      MICHAEL        SHUR\n",
       "12     OLIVIA A      GRAEVE\n",
       "13       HANTAO          JI\n",
       "14     CORRINNE       SANDE\n",
       "15         GARY     BLEDSOE\n",
       "16           HE       HUANG\n",
       "17       SIVA A   VANAPALLI\n",
       "18       BAIKUN          LI\n",
       "19       JOHN M    WEATHERS"
      ]
     },
     "execution_count": 35,
     "metadata": {},
     "output_type": "execute_result"
    }
   ],
   "source": [
    "# Lets check what we have\n",
    "grants_1018[['name_first', 'name_last']].head(20)"
   ]
  },
  {
   "cell_type": "code",
   "execution_count": 36,
   "metadata": {},
   "outputs": [],
   "source": [
    "# We still have the middle initial in the firstname\n",
    "grants_1018['name_first'] = grants_1018.name_first.str.split(' ').str.get(0)"
   ]
  },
  {
   "cell_type": "code",
   "execution_count": 37,
   "metadata": {},
   "outputs": [],
   "source": [
    "# remove special characters in names and make them lowercase\n",
    "grants_1018['name_last']=(clean(grants_1018['name_last'], \n",
    "                                 lowercase=True, remove_brackets=True))\n",
    "grants_1018['name_first']=(clean(grants_1018['name_first'], \n",
    "                                  lowercase=True, remove_brackets=True))"
   ]
  },
  {
   "cell_type": "markdown",
   "metadata": {},
   "source": [
    "Now lets look at the state to make sure all entries are valid"
   ]
  },
  {
   "cell_type": "code",
   "execution_count": 38,
   "metadata": {},
   "outputs": [],
   "source": [
    "# We can select the rows of our grants data that have a valid state information\n",
    "grants_1018_US = grants_1018.loc[grants_1018['ORGANIZATION_STATE'].isin(listUsStates)]"
   ]
  },
  {
   "cell_type": "markdown",
   "metadata": {},
   "source": [
    "**You can try here cleaning the organization information**"
   ]
  },
  {
   "cell_type": "markdown",
   "metadata": {},
   "source": [
    "We've done some basic pre-processing of the data, using some of the very useful functions in `recordlinkage.preprocessing`. Now, let's move on to the actual record linkage portion. Though we can dive right in with comparing two names and checking if they match, this process can actually have a lot of nuance to it. For example, you should consider how long this process will take if you have extremely large datasets, with millions and millions of rows to check against millions and millions of rows. In addition, you should consider how strict you want your matching to be. For example, you want to make sure you catch any typos or common misspellings, but want to avoid relaxing the match condition to the point that anything will match with anything."
   ]
  },
  {
   "cell_type": "code",
   "execution_count": 39,
   "metadata": {},
   "outputs": [],
   "source": [
    "# Make all columns lowercase\n",
    "grants_1018_US.columns = grants_1018_US.columns.str.lower()"
   ]
  },
  {
   "cell_type": "code",
   "execution_count": 40,
   "metadata": {},
   "outputs": [
    {
     "data": {
      "text/html": [
       "<div>\n",
       "<style scoped>\n",
       "    .dataframe tbody tr th:only-of-type {\n",
       "        vertical-align: middle;\n",
       "    }\n",
       "\n",
       "    .dataframe tbody tr th {\n",
       "        vertical-align: top;\n",
       "    }\n",
       "\n",
       "    .dataframe thead th {\n",
       "        text-align: right;\n",
       "    }\n",
       "</style>\n",
       "<table border=\"1\" class=\"dataframe\">\n",
       "  <thead>\n",
       "    <tr style=\"text-align: right;\">\n",
       "      <th></th>\n",
       "      <th>project_id</th>\n",
       "      <th>project_start_date</th>\n",
       "      <th>contact_pi_project_leader</th>\n",
       "      <th>organization_name</th>\n",
       "      <th>organization_city</th>\n",
       "      <th>organization_state</th>\n",
       "      <th>name_first</th>\n",
       "      <th>name_last</th>\n",
       "    </tr>\n",
       "  </thead>\n",
       "  <tbody>\n",
       "    <tr>\n",
       "      <th>1</th>\n",
       "      <td>463805</td>\n",
       "      <td>6/1/2013</td>\n",
       "      <td>GANIKHANOV, FERUZ</td>\n",
       "      <td>UNIVERSITY OF RHODE ISLAND</td>\n",
       "      <td>KINGSTON</td>\n",
       "      <td>RI</td>\n",
       "      <td>feruz</td>\n",
       "      <td>ganikhanov</td>\n",
       "    </tr>\n",
       "    <tr>\n",
       "      <th>2</th>\n",
       "      <td>463806</td>\n",
       "      <td>10/1/2013</td>\n",
       "      <td>CLEAVES, HENDERSON</td>\n",
       "      <td>BLUE MARBLE SPACE</td>\n",
       "      <td>SEATTLE</td>\n",
       "      <td>WA</td>\n",
       "      <td>henderson</td>\n",
       "      <td>cleaves</td>\n",
       "    </tr>\n",
       "    <tr>\n",
       "      <th>3</th>\n",
       "      <td>463807</td>\n",
       "      <td>10/1/2013</td>\n",
       "      <td>MOOMAW, ELLEN</td>\n",
       "      <td>KENNESAW STATE UNIVERSITY RESEARCH AND SERVICE...</td>\n",
       "      <td>KENNESAW</td>\n",
       "      <td>GA</td>\n",
       "      <td>ellen</td>\n",
       "      <td>moomaw</td>\n",
       "    </tr>\n",
       "    <tr>\n",
       "      <th>4</th>\n",
       "      <td>463808</td>\n",
       "      <td>11/1/2013</td>\n",
       "      <td>AKINWANDE, DEJI</td>\n",
       "      <td>UNIVERSITY OF TEXAS AUSTIN</td>\n",
       "      <td>AUSTIN</td>\n",
       "      <td>TX</td>\n",
       "      <td>deji</td>\n",
       "      <td>akinwande</td>\n",
       "    </tr>\n",
       "    <tr>\n",
       "      <th>5</th>\n",
       "      <td>463809</td>\n",
       "      <td>9/15/2013</td>\n",
       "      <td>CHASE, CATHERINE</td>\n",
       "      <td>COLUMBIA UNIVERSITY TEACHERS COLLEGE</td>\n",
       "      <td>NEW YORK</td>\n",
       "      <td>NY</td>\n",
       "      <td>catherine</td>\n",
       "      <td>chase</td>\n",
       "    </tr>\n",
       "  </tbody>\n",
       "</table>\n",
       "</div>"
      ],
      "text/plain": [
       "   project_id project_start_date contact_pi_project_leader  \\\n",
       "1      463805           6/1/2013         GANIKHANOV, FERUZ   \n",
       "2      463806          10/1/2013        CLEAVES, HENDERSON   \n",
       "3      463807          10/1/2013             MOOMAW, ELLEN   \n",
       "4      463808          11/1/2013           AKINWANDE, DEJI   \n",
       "5      463809          9/15/2013          CHASE, CATHERINE   \n",
       "\n",
       "                                   organization_name organization_city  \\\n",
       "1                         UNIVERSITY OF RHODE ISLAND          KINGSTON   \n",
       "2                                  BLUE MARBLE SPACE           SEATTLE   \n",
       "3  KENNESAW STATE UNIVERSITY RESEARCH AND SERVICE...          KENNESAW   \n",
       "4                         UNIVERSITY OF TEXAS AUSTIN            AUSTIN   \n",
       "5               COLUMBIA UNIVERSITY TEACHERS COLLEGE          NEW YORK   \n",
       "\n",
       "  organization_state name_first   name_last  \n",
       "1                 RI      feruz  ganikhanov  \n",
       "2                 WA  henderson     cleaves  \n",
       "3                 GA      ellen      moomaw  \n",
       "4                 TX       deji   akinwande  \n",
       "5                 NY  catherine       chase  "
      ]
     },
     "execution_count": 40,
     "metadata": {},
     "output_type": "execute_result"
    }
   ],
   "source": [
    "grants_1018_US.head()"
   ]
  },
  {
   "cell_type": "code",
   "execution_count": null,
   "metadata": {},
   "outputs": [],
   "source": [
    "# keep vars needed\n",
    "grants_to_link = (grants_1018_US[['name_first', 'name_last', 'organization_name', 'organization_city',\n",
    "                                  'organization_state', 'project_id']])"
   ]
  },
  {
   "cell_type": "code",
   "execution_count": 42,
   "metadata": {},
   "outputs": [],
   "source": [
    "# get final data for linkage\n",
    "# Now we can remove all the duplicates if there are any\n",
    "grants_to_link = grants_to_link.drop_duplicates()\n",
    "\n",
    "# Now drop missing values\n",
    "grants_to_link = grants_to_link.dropna()\n",
    "\n",
    "# Rename the patent dataset columns\n",
    "grants_to_link = grants_to_link.rename(columns={'organization_city':'city'})\n",
    "grants_to_link = grants_to_link.rename(columns={'organization_state':'state'})\n",
    "grants_to_link = grants_to_link.rename(columns={'organization_name':'org_name'})"
   ]
  },
  {
   "cell_type": "code",
   "execution_count": 43,
   "metadata": {},
   "outputs": [
    {
     "data": {
      "text/html": [
       "<div>\n",
       "<style scoped>\n",
       "    .dataframe tbody tr th:only-of-type {\n",
       "        vertical-align: middle;\n",
       "    }\n",
       "\n",
       "    .dataframe tbody tr th {\n",
       "        vertical-align: top;\n",
       "    }\n",
       "\n",
       "    .dataframe thead th {\n",
       "        text-align: right;\n",
       "    }\n",
       "</style>\n",
       "<table border=\"1\" class=\"dataframe\">\n",
       "  <thead>\n",
       "    <tr style=\"text-align: right;\">\n",
       "      <th></th>\n",
       "      <th>name_first</th>\n",
       "      <th>name_last</th>\n",
       "      <th>org_name</th>\n",
       "      <th>city</th>\n",
       "      <th>state</th>\n",
       "      <th>project_id</th>\n",
       "    </tr>\n",
       "  </thead>\n",
       "  <tbody>\n",
       "    <tr>\n",
       "      <th>1</th>\n",
       "      <td>feruz</td>\n",
       "      <td>ganikhanov</td>\n",
       "      <td>UNIVERSITY OF RHODE ISLAND</td>\n",
       "      <td>KINGSTON</td>\n",
       "      <td>RI</td>\n",
       "      <td>463805</td>\n",
       "    </tr>\n",
       "    <tr>\n",
       "      <th>2</th>\n",
       "      <td>henderson</td>\n",
       "      <td>cleaves</td>\n",
       "      <td>BLUE MARBLE SPACE</td>\n",
       "      <td>SEATTLE</td>\n",
       "      <td>WA</td>\n",
       "      <td>463806</td>\n",
       "    </tr>\n",
       "    <tr>\n",
       "      <th>3</th>\n",
       "      <td>ellen</td>\n",
       "      <td>moomaw</td>\n",
       "      <td>KENNESAW STATE UNIVERSITY RESEARCH AND SERVICE...</td>\n",
       "      <td>KENNESAW</td>\n",
       "      <td>GA</td>\n",
       "      <td>463807</td>\n",
       "    </tr>\n",
       "    <tr>\n",
       "      <th>4</th>\n",
       "      <td>deji</td>\n",
       "      <td>akinwande</td>\n",
       "      <td>UNIVERSITY OF TEXAS AUSTIN</td>\n",
       "      <td>AUSTIN</td>\n",
       "      <td>TX</td>\n",
       "      <td>463808</td>\n",
       "    </tr>\n",
       "    <tr>\n",
       "      <th>5</th>\n",
       "      <td>catherine</td>\n",
       "      <td>chase</td>\n",
       "      <td>COLUMBIA UNIVERSITY TEACHERS COLLEGE</td>\n",
       "      <td>NEW YORK</td>\n",
       "      <td>NY</td>\n",
       "      <td>463809</td>\n",
       "    </tr>\n",
       "  </tbody>\n",
       "</table>\n",
       "</div>"
      ],
      "text/plain": [
       "  name_first   name_last                                           org_name  \\\n",
       "1      feruz  ganikhanov                         UNIVERSITY OF RHODE ISLAND   \n",
       "2  henderson     cleaves                                  BLUE MARBLE SPACE   \n",
       "3      ellen      moomaw  KENNESAW STATE UNIVERSITY RESEARCH AND SERVICE...   \n",
       "4       deji   akinwande                         UNIVERSITY OF TEXAS AUSTIN   \n",
       "5  catherine       chase               COLUMBIA UNIVERSITY TEACHERS COLLEGE   \n",
       "\n",
       "       city state  project_id  \n",
       "1  KINGSTON    RI      463805  \n",
       "2   SEATTLE    WA      463806  \n",
       "3  KENNESAW    GA      463807  \n",
       "4    AUSTIN    TX      463808  \n",
       "5  NEW YORK    NY      463809  "
      ]
     },
     "execution_count": 43,
     "metadata": {},
     "output_type": "execute_result"
    }
   ],
   "source": [
    "grants_to_link.head()"
   ]
  },
  {
   "cell_type": "code",
   "execution_count": 44,
   "metadata": {},
   "outputs": [
    {
     "data": {
      "text/html": [
       "<div>\n",
       "<style scoped>\n",
       "    .dataframe tbody tr th:only-of-type {\n",
       "        vertical-align: middle;\n",
       "    }\n",
       "\n",
       "    .dataframe tbody tr th {\n",
       "        vertical-align: top;\n",
       "    }\n",
       "\n",
       "    .dataframe thead th {\n",
       "        text-align: right;\n",
       "    }\n",
       "</style>\n",
       "<table border=\"1\" class=\"dataframe\">\n",
       "  <thead>\n",
       "    <tr style=\"text-align: right;\">\n",
       "      <th></th>\n",
       "      <th>name_first</th>\n",
       "      <th>name_last</th>\n",
       "      <th>org_name</th>\n",
       "      <th>state</th>\n",
       "      <th>city</th>\n",
       "      <th>patent_number</th>\n",
       "    </tr>\n",
       "  </thead>\n",
       "  <tbody>\n",
       "    <tr>\n",
       "      <th>0</th>\n",
       "      <td>derek</td>\n",
       "      <td>sauder</td>\n",
       "      <td>precision planting</td>\n",
       "      <td>IL</td>\n",
       "      <td>Tremont</td>\n",
       "      <td>9532496</td>\n",
       "    </tr>\n",
       "    <tr>\n",
       "      <th>1</th>\n",
       "      <td>derek</td>\n",
       "      <td>sauder</td>\n",
       "      <td>precision planting</td>\n",
       "      <td>IL</td>\n",
       "      <td>Tremont</td>\n",
       "      <td>9750174</td>\n",
       "    </tr>\n",
       "    <tr>\n",
       "      <th>2</th>\n",
       "      <td>derek</td>\n",
       "      <td>sauder</td>\n",
       "      <td>precision planting</td>\n",
       "      <td>IL</td>\n",
       "      <td>Tremont</td>\n",
       "      <td>9752596</td>\n",
       "    </tr>\n",
       "    <tr>\n",
       "      <th>3</th>\n",
       "      <td>derek</td>\n",
       "      <td>sauder</td>\n",
       "      <td>precision planting</td>\n",
       "      <td>IL</td>\n",
       "      <td>Tremont</td>\n",
       "      <td>9801322</td>\n",
       "    </tr>\n",
       "    <tr>\n",
       "      <th>4</th>\n",
       "      <td>derek</td>\n",
       "      <td>sauder</td>\n",
       "      <td>precision planting</td>\n",
       "      <td>IL</td>\n",
       "      <td>Tremont</td>\n",
       "      <td>9848523</td>\n",
       "    </tr>\n",
       "  </tbody>\n",
       "</table>\n",
       "</div>"
      ],
      "text/plain": [
       "  name_first name_last            org_name state     city patent_number\n",
       "0      derek    sauder  precision planting    IL  Tremont       9532496\n",
       "1      derek    sauder  precision planting    IL  Tremont       9750174\n",
       "2      derek    sauder  precision planting    IL  Tremont       9752596\n",
       "3      derek    sauder  precision planting    IL  Tremont       9801322\n",
       "4      derek    sauder  precision planting    IL  Tremont       9848523"
      ]
     },
     "execution_count": 44,
     "metadata": {},
     "output_type": "execute_result"
    }
   ],
   "source": [
    "patents_to_link.head()"
   ]
  },
  {
   "cell_type": "code",
   "execution_count": 45,
   "metadata": {},
   "outputs": [],
   "source": [
    "# Drop dupliates\n",
    "patents_to_link=patents_to_link.drop_duplicates(['name_first','name_last', 'state'], keep= 'last').reset_index()\n",
    "grants_to_link=grants_to_link.drop_duplicates(['name_first','name_last', 'state'], keep= 'last').reset_index()"
   ]
  },
  {
   "cell_type": "markdown",
   "metadata": {},
   "source": [
    "## Record Linkage\n",
    "The record linkage package is a quite powerful tool for you to use when you want to link records within a dataset or across multiple datasets. It comes with different bulid in distances metrics and comparison functions, however, it also allows you to create your own. In general record linkage is divided in several steps. We've already done the pre-processing. We will add one more thing: a soundex.\n",
    "\n",
    "Sometimes, words or names are recorded differently because they are written down as they sound. This can result in failed matches, because the same institution or individual will technically have different written names, even though the names would sound identically when pronounced out loud. To avoid these issues, we will add one more thing: a soundex (a phonetic algorithm for indexing names by sound, as pronounced in English).\n",
    "\n",
    "The `phonetic()` function is used to convert strings into their corresponding phonetic codes. This is particularly useful when comparing names where different possible spellings make it difficult to find exact matches (e.g. Jillian and Gillian).\n",
    "\n",
    "Let's add a column called `phonetic_first` and `phonetic_last` to our existing data, which will contain the result of applying a `phonetic` function to the person's name (the phonetic transcription of the name). We are using a method called NYSIIS - the New York State Identification and Intelligence System phonetic code. "
   ]
  },
  {
   "cell_type": "code",
   "execution_count": null,
   "metadata": {},
   "outputs": [],
   "source": [
    "# Generate soundex\n",
    "grants_to_link[\"phonetic_first\"] = phonetic(grants_to_link[\"name_first\"], method=\"nysiis\")\n",
    "grants_to_link[\"phonetic_last\"] = phonetic(grants_to_link[\"name_last\"], method=\"nysiis\")\n",
    "\n",
    "patents_to_link[\"phonetic_first\"] = phonetic(patents_to_link[\"name_first\"], method=\"nysiis\")\n",
    "patents_to_link[\"phonetic_last\"] = phonetic(patents_to_link[\"name_last\"], method=\"nysiis\")"
   ]
  },
  {
   "cell_type": "markdown",
   "metadata": {},
   "source": [
    "### Indexing\n",
    "\n",
    "Indexing allows you to create candidate links, which basically means identifying pairs of data rows which might refer to the same real world entity. This is also called the comparison space (matrix). There are different ways to index data. The easiest is to create a full index and consider every pair a match. This is also the least efficient method, because we will be comparing every row of one dataset with every row of the other dataset.\n",
    "\n",
    "If we had 10,000 records in data frame A and 100,000 records in data frame B, we would have 1,000,000,000 candidate links. You can see that comparing over a full index is getting inefficient when working with big data."
   ]
  },
  {
   "cell_type": "code",
   "execution_count": null,
   "metadata": {},
   "outputs": [],
   "source": [
    "# Let's generate a full index first (comparison table of all possible linkage combinations)\n",
    "#indexer = rl.FullIndex()\n",
    "#pairs = indexer.index(grants_to_link, patents_to_link)\n",
    "# Returns a pandas MultiIndex object\n",
    "## How many records do we have?\n",
    "#print (len(grants), len(inventor))"
   ]
  },
  {
   "cell_type": "markdown",
   "metadata": {},
   "source": [
    "We can do better if we actually include our knowledge about the data to eliminate bad link from the start. This can be done through blocking. The recordlinkage packages gives you multiple options for this. For example, you can block by using variables, which menas only links exactly equal on specified values will be kept. You can also use a neighbourhood index in which the rows in your dataframe are ranked by some value and python will only link between the rows that are closeby."
   ]
  },
  {
   "cell_type": "code",
   "execution_count": null,
   "metadata": {},
   "outputs": [],
   "source": [
    "# Try and see how this changes when you block on more or less variables\n",
    "indexerBL = rl.BlockIndex(on=['state'])\n",
    "pairs = indexerBL.index(grants_to_link, patents_to_link)\n",
    "# Returns a pandas MultiIndex object\n",
    "print(len(pairs))"
   ]
  },
  {
   "cell_type": "markdown",
   "metadata": {},
   "source": [
    "### Record Comparison\n",
    "\n",
    "After you have created a set of candidate links, you’re ready to begin comparing the records associated with each candidate link. In recordlinkage you must initiate a Compare object prior to performing any comparison functionality between records. This object stores both dataframes, the candidate links, and a vector containing comparison results. Further, the Compare object contains the methods for performing comparisons. The code block below initializes the comparison object."
   ]
  },
  {
   "cell_type": "code",
   "execution_count": null,
   "metadata": {},
   "outputs": [],
   "source": [
    "# Initiate compare object (we are using the blocked ones here)\n",
    "# You want to give python the name of the MultiIndex and the names of the datasets\n",
    "compare_cl = rl.Compare()"
   ]
  },
  {
   "cell_type": "markdown",
   "metadata": {},
   "source": [
    "Currently there are five specific comparison methods within recordlinkage: Compare.exact(), Compare.string(), Compare.numeric(), Compare.geo(), and Compare.date(). The Compare.exact() method is simple: if two values are an exact match a comparison score of 1 is returned, otherwise 0 is retured. The Compare.string() method is a bit more complicated and generates a score based on well known string-comparison algorithms (for this example Levenshtein or Jaro Winkler).\n",
    "\n",
    "`Compare.string()` method generates a score based on well-known string-comparison algorithms. For this example, Jaro-Winkler distance is used (specifically developed with record linkage applications in mind) - words with more characters in common have a higher Jaro-Winkler value than those with fewer characters in common. The output value is normalized to fall between 0 (complete dissimilar strings) and 1 (exact match on strings). (Information about other string-comparison methods is included in the References section below).\n",
    "\n",
    "As you remember, we already did an exact matching on `state`, when we did the blocking above and created the candidate links.\n",
    "\n",
    "We need to specify the respective columns with organization names in both datasets, the method, and the threshold. In this case, for all strings that have more than 70% in similarity, according to the Jaro-Winkler distance, a 1 will be returned, and otherwise 0."
   ]
  },
  {
   "cell_type": "code",
   "execution_count": null,
   "metadata": {},
   "outputs": [],
   "source": [
    "compare_cl.string('name_first', 'name_first', method='jarowinkler', threshold=0.70, label='name_first')\n",
    "compare_cl.string('name_last', 'name_last', method='jarowinkler', threshold=0.70, label='name_last')\n",
    "\n",
    "compare_cl.string('phonetic_first', 'phonetic_first', method='jarowinkler', threshold=0.70, label='phonetic_first')\n",
    "compare_cl.string('phonetic_last', 'phonetic_last', method='jarowinkler', threshold=0.70, label='phonetic_last')\n",
    "\n",
    "compare_cl.exact('state', 'state', label='state')"
   ]
  },
  {
   "cell_type": "markdown",
   "metadata": {},
   "source": [
    "The comparing of record pairs starts when the `compute` method is called. "
   ]
  },
  {
   "cell_type": "code",
   "execution_count": null,
   "metadata": {},
   "outputs": [],
   "source": [
    "## The comparing of record pairs starts when the compute method is called. \n",
    "## All attribute comparisons are stored in a DataFrame with horizontally the features and vertically the record pairs.\n",
    "\n",
    "features = compare_cl.compute(pairs, grants_to_link, patents_to_link)\n",
    "features.head()"
   ]
  },
  {
   "cell_type": "code",
   "execution_count": null,
   "metadata": {},
   "outputs": [],
   "source": [
    "# Here you can see the matches of the first name only\n",
    "features[features['name_first'] == 1]"
   ]
  },
  {
   "cell_type": "markdown",
   "metadata": {},
   "source": [
    "### Classification\n",
    "\n",
    "Let's check how many records we get where one or both of comparison attributes match."
   ]
  },
  {
   "cell_type": "code",
   "execution_count": null,
   "metadata": {},
   "outputs": [],
   "source": [
    "## Simple Classification: Check for how many attributes records are identical by summing the comparison results.\n",
    "features.sum(axis=1).value_counts().sort_index(ascending=False)"
   ]
  },
  {
   "cell_type": "code",
   "execution_count": null,
   "metadata": {},
   "outputs": [],
   "source": [
    "matches = features[features.sum(axis=1) > 3]\n",
    "print(len(matches))"
   ]
  },
  {
   "cell_type": "markdown",
   "metadata": {},
   "source": [
    "Now that we have the list of matches we can fuse our dataset, becasue at the end we want to have a combined dataset. We are using a function for this task."
   ]
  },
  {
   "cell_type": "code",
   "execution_count": null,
   "metadata": {},
   "outputs": [],
   "source": [
    "matches.head()"
   ]
  },
  {
   "cell_type": "markdown",
   "metadata": {},
   "source": [
    "Now let's merge these matches back to original dataframes. Our `matches` dataframe has MultiIndex - two indices to the left which correspond to the `patents` table and `grants` table respectively. We will pull all corresponding rows from both tables separately."
   ]
  },
  {
   "cell_type": "code",
   "execution_count": null,
   "metadata": {},
   "outputs": [],
   "source": [
    "# For grants (the first data used)\n",
    "grants_results = []  # Create an empty list\n",
    "\n",
    "for match in matches.index:  # For every pair in matches (index)\n",
    "    df = pd.DataFrame(grants_to_link.loc[[match[0]]])  # Get the location in the original table, convert to dataframe\n",
    "    grants_results.append(df)  # Append to a list\n",
    "    \n",
    "grants_concat = pd.concat(grants_results)  # concate list of frames into one    "
   ]
  },
  {
   "cell_type": "code",
   "execution_count": null,
   "metadata": {},
   "outputs": [],
   "source": [
    "# For patents (the second data used)\n",
    "patents_results = []  # Create an empty list\n",
    "\n",
    "for i in matches.index:  # For every pair in matches (index)\n",
    "    df = pd.DataFrame(patents_to_link.loc[[i[1]]])  # Get the location in the original table, convert to dataframe\n",
    "    patents_results.append(df)  # Append to a list\n",
    "\n",
    "patents_concat = pd.concat(patents_results)  # Concatenate into one dataframe"
   ]
  },
  {
   "cell_type": "markdown",
   "metadata": {},
   "source": [
    "Now we need to combine two tables on the index - notice that our tables right now have indices from the original tables. We can reset the index using `.reset_index()`."
   ]
  },
  {
   "cell_type": "code",
   "execution_count": null,
   "metadata": {},
   "outputs": [],
   "source": [
    "# reset index\n",
    "grants_concat = grants_concat.reset_index()\n",
    "patents_concat = patents_concat.reset_index()"
   ]
  },
  {
   "cell_type": "code",
   "execution_count": null,
   "metadata": {},
   "outputs": [],
   "source": [
    "grants_concat.head()"
   ]
  },
  {
   "cell_type": "code",
   "execution_count": null,
   "metadata": {},
   "outputs": [],
   "source": [
    "patents_concat.head()"
   ]
  },
  {
   "cell_type": "markdown",
   "metadata": {},
   "source": [
    "Now we concatenate these two tables using `.concat()`."
   ]
  },
  {
   "cell_type": "code",
   "execution_count": null,
   "metadata": {},
   "outputs": [],
   "source": [
    "matched = pd.concat([grants_concat,patents_concat],axis=1)  # Specify axis=1 to concatenate horizontally"
   ]
  },
  {
   "cell_type": "code",
   "execution_count": null,
   "metadata": {},
   "outputs": [],
   "source": [
    "# And this is our result\n",
    "matched.head()"
   ]
  },
  {
   "cell_type": "markdown",
   "metadata": {},
   "source": [
    "## References and Further Readings\n",
    "\n",
    "\n",
    "### Parsing\n",
    "\n",
    "* Python online documentation: https://docs.python.org/2/library/string.html#deprecated-string-functions\n",
    "* Python 2.7 Tutorial(Splitting and Joining Strings): http://www.pitt.edu/~naraehan/python2/split_join.html\n",
    "\n",
    "### Regular Expression\n",
    "\n",
    "* Python documentation: https://docs.python.org/2/library/re.html#regular-expression-syntax\n",
    "* Online regular expression tester (good for learning): http://regex101.com/\n",
    "\n",
    "### String Comparators\n",
    "\n",
    "* GitHub page of jellyfish: https://github.com/jamesturk/jellyfish\n",
    "* Different distances that measure the differences between strings:\n",
    "    - Levenshtein distance: https://en.wikipedia.org/wiki/Levenshtein_distance\n",
    "    - Damerau–Levenshtein distance: https://en.wikipedia.org/wiki/Damerau%E2%80%93Levenshtein_distance\n",
    "    - Jaro–Winkler distance: https://en.wikipedia.org/wiki/Jaro%E2%80%93Winkler_distance\n",
    "    - Hamming distance: https://en.wikipedia.org/wiki/Hamming_distance\n",
    "    - Match rating approach: https://en.wikipedia.org/wiki/Match_rating_approach\n",
    "\n",
    "\n",
    "\n"
   ]
  },
  {
   "cell_type": "code",
   "execution_count": null,
   "metadata": {},
   "outputs": [],
   "source": []
  },
  {
   "cell_type": "code",
   "execution_count": null,
   "metadata": {},
   "outputs": [],
   "source": []
  },
  {
   "cell_type": "code",
   "execution_count": null,
   "metadata": {},
   "outputs": [],
   "source": []
  },
  {
   "cell_type": "code",
   "execution_count": null,
   "metadata": {},
   "outputs": [],
   "source": []
  },
  {
   "cell_type": "code",
   "execution_count": null,
   "metadata": {},
   "outputs": [],
   "source": []
  }
 ],
 "metadata": {
  "anaconda-cloud": {},
  "kernelspec": {
   "display_name": "Python 3",
   "language": "python",
   "name": "python3"
  },
  "language_info": {
   "codemirror_mode": {
    "name": "ipython",
    "version": 3
   },
   "file_extension": ".py",
   "mimetype": "text/x-python",
   "name": "python",
   "nbconvert_exporter": "python",
   "pygments_lexer": "ipython3",
   "version": "3.7.3"
  }
 },
 "nbformat": 4,
 "nbformat_minor": 4
}
